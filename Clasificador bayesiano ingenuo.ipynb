{
 "cells": [
  {
   "cell_type": "markdown",
   "metadata": {},
   "source": [
    "Divide aleatoriamente el conjunto de datos de cáncer de seno de Wisconsin3\n",
    "\n",
    "en un subconjunto de\n",
    "entrenamiento con el 60 % de los datos, un subconjunto de validación con el 20 % y un subconjunto\n",
    "de prueba con el 20 % restante usando 0 como semilla para tu generador de números aleatorios.\n",
    "Este conjunto de datos contiene 699 registros de tumores de seno, de los cuales 458 son benignos y\n",
    "241 son malignos."
   ]
  },
  {
   "cell_type": "code",
   "execution_count": null,
   "metadata": {},
   "outputs": [],
   "source": [
    "#Librerias\n",
    "import pandas as pd"
   ]
  },
  {
   "cell_type": "code",
   "execution_count": null,
   "metadata": {},
   "outputs": [],
   "source": []
  }
 ],
 "metadata": {
  "kernelspec": {
   "display_name": "Python 3",
   "language": "python",
   "name": "python3"
  },
  "language_info": {
   "codemirror_mode": {
    "name": "ipython",
    "version": 3
   },
   "file_extension": ".py",
   "mimetype": "text/x-python",
   "name": "python",
   "nbconvert_exporter": "python",
   "pygments_lexer": "ipython3",
   "version": "3.9.6"
  }
 },
 "nbformat": 4,
 "nbformat_minor": 2
}
