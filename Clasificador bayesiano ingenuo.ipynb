{
 "cells": [
  {
   "cell_type": "markdown",
   "metadata": {},
   "source": [
    "3.-Divide aleatoriamente el conjunto de datos de cáncer de seno de Wisconsin3\n",
    "\n",
    "en un subconjunto de\n",
    "entrenamiento con el 60 % de los datos, un subconjunto de validación con el 20 % y un subconjunto\n",
    "de prueba con el 20 % restante usando 0 como semilla para tu generador de números aleatorios.\n",
    "Este conjunto de datos contiene 699 registros de tumores de seno, de los cuales 458 son benignos y\n",
    "241 son malignos."
   ]
  },
  {
   "cell_type": "code",
   "execution_count": 1,
   "metadata": {},
   "outputs": [],
   "source": [
    "#Librerias\n",
    "import pandas as pd\n",
    "from sklearn.model_selection import train_test_split\n",
    "import seaborn as sns\n",
    "import matplotlib.pyplot as plt  "
   ]
  },
  {
   "cell_type": "code",
   "execution_count": 2,
   "metadata": {},
   "outputs": [],
   "source": [
    "\n",
    "# URL del archivo de datos\n",
    "url = \"http://archive.ics.uci.edu/ml/machine-learning-databases/breast-cancer-wisconsin/breast-cancer-wisconsin.data\"\n",
    "\n",
    "# Cargar los datos en un DataFrame\n",
    "df = pd.read_csv(url, header=None)  # No tiene encabezados, por eso usamos header=None\n"
   ]
  },
  {
   "cell_type": "code",
   "execution_count": 3,
   "metadata": {},
   "outputs": [],
   "source": [
    "# Definir nombres de columnas en español\n",
    "column_names = [\n",
    "    \"ID_Muestra\", \"Grosor_Tumor\", \"Uniformidad_Tamaño_Celular\", \n",
    "    \"Uniformidad_Forma_Celular\", \"Adhesión_Marginal\", \"Tamaño_Célula_Epitelial\", \n",
    "    \"Núcleos_Desnudos\", \"Cromatina_Blanda\", \"Nucléolos_Normales\", \n",
    "    \"Mitosis_Celular\", \"Clase\"\n",
    "]\n",
    "\n",
    "# Asignar los nombres de columna\n",
    "df.columns = column_names"
   ]
  },
  {
   "cell_type": "code",
   "execution_count": 4,
   "metadata": {},
   "outputs": [
    {
     "name": "stdout",
     "output_type": "stream",
     "text": [
      "<class 'pandas.core.frame.DataFrame'>\n",
      "RangeIndex: 699 entries, 0 to 698\n",
      "Data columns (total 11 columns):\n",
      " #   Column                      Non-Null Count  Dtype \n",
      "---  ------                      --------------  ----- \n",
      " 0   ID_Muestra                  699 non-null    int64 \n",
      " 1   Grosor_Tumor                699 non-null    int64 \n",
      " 2   Uniformidad_Tamaño_Celular  699 non-null    int64 \n",
      " 3   Uniformidad_Forma_Celular   699 non-null    int64 \n",
      " 4   Adhesión_Marginal           699 non-null    int64 \n",
      " 5   Tamaño_Célula_Epitelial     699 non-null    int64 \n",
      " 6   Núcleos_Desnudos            699 non-null    object\n",
      " 7   Cromatina_Blanda            699 non-null    int64 \n",
      " 8   Nucléolos_Normales          699 non-null    int64 \n",
      " 9   Mitosis_Celular             699 non-null    int64 \n",
      " 10  Clase                       699 non-null    int64 \n",
      "dtypes: int64(10), object(1)\n",
      "memory usage: 60.2+ KB\n"
     ]
    }
   ],
   "source": [
    "# corroboramos el tipo de datos\n",
    "df.info()"
   ]
  },
  {
   "cell_type": "code",
   "execution_count": 5,
   "metadata": {},
   "outputs": [
    {
     "name": "stdout",
     "output_type": "stream",
     "text": [
      "23     ?\n",
      "40     ?\n",
      "139    ?\n",
      "145    ?\n",
      "158    ?\n",
      "164    ?\n",
      "235    ?\n",
      "249    ?\n",
      "275    ?\n",
      "292    ?\n",
      "294    ?\n",
      "297    ?\n",
      "315    ?\n",
      "321    ?\n",
      "411    ?\n",
      "617    ?\n",
      "Name: Núcleos_Desnudos, dtype: object\n"
     ]
    }
   ],
   "source": [
    "#La columna tiene un tipo de dato objecto, veremos que valores extra a numeros tiene.\n",
    "columna = \"Núcleos_Desnudos\"\n",
    "valores_no_numericos = df[pd.to_numeric(df[columna], errors=\"coerce\").isna()]\n",
    "print(valores_no_numericos[columna])"
   ]
  },
  {
   "cell_type": "code",
   "execution_count": 6,
   "metadata": {},
   "outputs": [],
   "source": [
    "#Encontramos 16 valores \"?\" en la columna \"Núcleos_Desnudos\" por lo que prcedemos a remplazarlos por \n",
    "#NANs y poder trabajar regularmente con ellos \n",
    "df.replace(\"?\", pd.NA, inplace=True)\n",
    "\n",
    "#Convertimos la columna a tipo entero\n",
    "df[\"Núcleos_Desnudos\"] = pd.to_numeric(df[\"Núcleos_Desnudos\"]).astype(\"Int64\")\n",
    "\n",
    "\n"
   ]
  },
  {
   "cell_type": "code",
   "execution_count": 7,
   "metadata": {},
   "outputs": [
    {
     "name": "stdout",
     "output_type": "stream",
     "text": [
      "16\n"
     ]
    }
   ],
   "source": [
    "#Validamos los 16 nans\n",
    "print(df.isna().sum().sum())"
   ]
  },
  {
   "cell_type": "code",
   "execution_count": 8,
   "metadata": {},
   "outputs": [
    {
     "data": {
      "text/html": [
       "<div>\n",
       "<style scoped>\n",
       "    .dataframe tbody tr th:only-of-type {\n",
       "        vertical-align: middle;\n",
       "    }\n",
       "\n",
       "    .dataframe tbody tr th {\n",
       "        vertical-align: top;\n",
       "    }\n",
       "\n",
       "    .dataframe thead th {\n",
       "        text-align: right;\n",
       "    }\n",
       "</style>\n",
       "<table border=\"1\" class=\"dataframe\">\n",
       "  <thead>\n",
       "    <tr style=\"text-align: right;\">\n",
       "      <th></th>\n",
       "      <th>ID_Muestra</th>\n",
       "      <th>Porcentaje</th>\n",
       "    </tr>\n",
       "    <tr>\n",
       "      <th>Clase</th>\n",
       "      <th></th>\n",
       "      <th></th>\n",
       "    </tr>\n",
       "  </thead>\n",
       "  <tbody>\n",
       "    <tr>\n",
       "      <th>2</th>\n",
       "      <td>458</td>\n",
       "      <td>65.522175</td>\n",
       "    </tr>\n",
       "    <tr>\n",
       "      <th>4</th>\n",
       "      <td>241</td>\n",
       "      <td>34.477825</td>\n",
       "    </tr>\n",
       "    <tr>\n",
       "      <th>Total</th>\n",
       "      <td>699</td>\n",
       "      <td>100.000000</td>\n",
       "    </tr>\n",
       "  </tbody>\n",
       "</table>\n",
       "</div>"
      ],
      "text/plain": [
       "       ID_Muestra  Porcentaje\n",
       "Clase                        \n",
       "2             458   65.522175\n",
       "4             241   34.477825\n",
       "Total         699  100.000000"
      ]
     },
     "execution_count": 8,
     "metadata": {},
     "output_type": "execute_result"
    }
   ],
   "source": [
    "#Validamos si el volumen de los datos coincide con la información proporcionada\n",
    "pivot_table = df.pivot_table(values=\"ID_Muestra\", index=\"Clase\", aggfunc=\"count\")\n",
    "pivot_table.loc[\"Total\"] = pivot_table.sum()\n",
    "pivot_table[\"Porcentaje\"] = (pivot_table[\"ID_Muestra\"] / pivot_table.loc[\"Total\", \"ID_Muestra\"]) * 100\n",
    "pivot_table"
   ]
  },
  {
   "cell_type": "markdown",
   "metadata": {},
   "source": [
    "Usaremos 3 metodologias para el tratamiento de los datos faltantes\n",
    "\n",
    "1. Eliminar las filas con datos faltantes\n",
    "2. Imputar los datos faltantes con la media\n",
    "3. Interpolación lineal para los datos faltantes"
   ]
  },
  {
   "cell_type": "code",
   "execution_count": null,
   "metadata": {},
   "outputs": [],
   "source": [
    "#1 eliminar las filas con valores nulos \n",
    "df_drop = df.dropna()\n",
    "\n",
    "#2 reemplazar los valores nulos con la media de la columna\n",
    "df_avg = df\n",
    "df_avg[\"Núcleos_Desnudos\"] = df_avg[\"Núcleos_Desnudos\"].fillna(round(df_avg[\"Núcleos_Desnudos\"].mean(),0)).astype(\"int64\")\n",
    "\n",
    "#3 haremos una interpolación lineal\n",
    "df_itrp = df.interpolate(method=\"linear\")"
   ]
  },
  {
   "cell_type": "code",
   "execution_count": 17,
   "metadata": {},
   "outputs": [],
   "source": [
    "#de los 699 guardaremos el 60% para entrenamiento\n",
    "train_df, temporal = train_test_split(df_avg, test_size=0.4, random_state=0)  \n",
    "#en temporal quedo guardado el 40% de los datos originales\n",
    "#asi que si dividimos en dos el 40% nos quedaran dos grupos de 20% cada uno\n",
    "valid_df, test_df = train_test_split(temporal, test_size=0.5, random_state=0)  # 20% validación, 20% prueba\n"
   ]
  },
  {
   "cell_type": "code",
   "execution_count": null,
   "metadata": {},
   "outputs": [],
   "source": [
    "#Regresión Logística\n",
    "#Support Vector Machines (SVM)\n",
    "#Random Forest\n",
    "#Naive Bayes"
   ]
  },
  {
   "cell_type": "code",
   "execution_count": null,
   "metadata": {},
   "outputs": [],
   "source": []
  }
 ],
 "metadata": {
  "kernelspec": {
   "display_name": "Python 3",
   "language": "python",
   "name": "python3"
  },
  "language_info": {
   "codemirror_mode": {
    "name": "ipython",
    "version": 3
   },
   "file_extension": ".py",
   "mimetype": "text/x-python",
   "name": "python",
   "nbconvert_exporter": "python",
   "pygments_lexer": "ipython3",
   "version": "3.9.6"
  }
 },
 "nbformat": 4,
 "nbformat_minor": 2
}
