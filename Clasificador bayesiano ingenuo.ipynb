{
 "cells": [
  {
   "cell_type": "markdown",
   "metadata": {},
   "source": [
    "Divide aleatoriamente el conjunto de datos de cáncer de seno de Wisconsin3\n",
    "\n",
    "en un subconjunto de\n",
    "entrenamiento con el 60 % de los datos, un subconjunto de validación con el 20 % y un subconjunto\n",
    "de prueba con el 20 % restante usando 0 como semilla para tu generador de números aleatorios.\n",
    "Este conjunto de datos contiene 699 registros de tumores de seno, de los cuales 458 son benignos y\n",
    "241 son malignos."
   ]
  },
  {
   "cell_type": "code",
   "execution_count": 13,
   "metadata": {},
   "outputs": [],
   "source": [
    "#Librerias\n",
    "import pandas as pd"
   ]
  },
  {
   "cell_type": "code",
   "execution_count": 15,
   "metadata": {},
   "outputs": [],
   "source": [
    "\n",
    "# URL del archivo de datos\n",
    "url = \"http://archive.ics.uci.edu/ml/machine-learning-databases/breast-cancer-wisconsin/breast-cancer-wisconsin.data\"\n",
    "\n",
    "# Cargar los datos en un DataFrame\n",
    "df = pd.read_csv(url, header=None)  # No tiene encabezados, por eso usamos header=None\n"
   ]
  },
  {
   "cell_type": "code",
   "execution_count": 20,
   "metadata": {},
   "outputs": [],
   "source": [
    "# Definir nombres de columnas en español\n",
    "column_names = [\n",
    "    \"ID_Muestra\", \"Grosor_Tumor\", \"Uniformidad_Tamaño_Celular\", \n",
    "    \"Uniformidad_Forma_Celular\", \"Adhesión_Marginal\", \"Tamaño_Célula_Epitelial\", \n",
    "    \"Núcleos_Desnudos\", \"Cromatina_Blanda\", \"Nucléolos_Normales\", \n",
    "    \"Mitosis_Celular\", \"Clase\"\n",
    "]\n",
    "\n",
    "# Asignar los nombres de columna\n",
    "df.columns = column_names"
   ]
  },
  {
   "cell_type": "code",
   "execution_count": 21,
   "metadata": {},
   "outputs": [
    {
     "name": "stdout",
     "output_type": "stream",
     "text": [
      "   ID_Muestra  Grosor_Tumor  Uniformidad_Tamaño_Celular  \\\n",
      "0     1000025             5                           1   \n",
      "1     1002945             5                           4   \n",
      "2     1015425             3                           1   \n",
      "3     1016277             6                           8   \n",
      "4     1017023             4                           1   \n",
      "5     1017122             8                          10   \n",
      "6     1018099             1                           1   \n",
      "7     1018561             2                           1   \n",
      "8     1033078             2                           1   \n",
      "9     1033078             4                           2   \n",
      "\n",
      "   Uniformidad_Forma_Celular  Adhesión_Marginal  Tamaño_Célula_Epitelial  \\\n",
      "0                          1                  1                        2   \n",
      "1                          4                  5                        7   \n",
      "2                          1                  1                        2   \n",
      "3                          8                  1                        3   \n",
      "4                          1                  3                        2   \n",
      "5                         10                  8                        7   \n",
      "6                          1                  1                        2   \n",
      "7                          2                  1                        2   \n",
      "8                          1                  1                        2   \n",
      "9                          1                  1                        2   \n",
      "\n",
      "  Núcleos_Desnudos  Cromatina_Blanda  Nucléolos_Normales  Mitosis_Celular  \\\n",
      "0                1                 3                   1                1   \n",
      "1               10                 3                   2                1   \n",
      "2                2                 3                   1                1   \n",
      "3                4                 3                   7                1   \n",
      "4                1                 3                   1                1   \n",
      "5               10                 9                   7                1   \n",
      "6               10                 3                   1                1   \n",
      "7                1                 3                   1                1   \n",
      "8                1                 1                   1                5   \n",
      "9                1                 2                   1                1   \n",
      "\n",
      "   Clase  \n",
      "0      2  \n",
      "1      2  \n",
      "2      2  \n",
      "3      2  \n",
      "4      2  \n",
      "5      4  \n",
      "6      2  \n",
      "7      2  \n",
      "8      2  \n",
      "9      2  \n"
     ]
    }
   ],
   "source": [
    "print(df.head(10))  # Mostrar las primeras 5 filas del DataFrame"
   ]
  }
 ],
 "metadata": {
  "kernelspec": {
   "display_name": "Python 3",
   "language": "python",
   "name": "python3"
  },
  "language_info": {
   "codemirror_mode": {
    "name": "ipython",
    "version": 3
   },
   "file_extension": ".py",
   "mimetype": "text/x-python",
   "name": "python",
   "nbconvert_exporter": "python",
   "pygments_lexer": "ipython3",
   "version": "3.9.6"
  }
 },
 "nbformat": 4,
 "nbformat_minor": 2
}
