{
 "cells": [
  {
   "cell_type": "markdown",
   "metadata": {},
   "source": [
    "3.-Divide aleatoriamente el conjunto de datos de cáncer de seno de Wisconsin3\n",
    "\n",
    "en un subconjunto de\n",
    "entrenamiento con el 60 % de los datos, un subconjunto de validación con el 20 % y un subconjunto\n",
    "de prueba con el 20 % restante usando 0 como semilla para tu generador de números aleatorios.\n",
    "Este conjunto de datos contiene 699 registros de tumores de seno, de los cuales 458 son benignos y\n",
    "241 son malignos."
   ]
  },
  {
   "cell_type": "code",
   "execution_count": 1,
   "metadata": {},
   "outputs": [],
   "source": [
    "#Librerias\n",
    "import pandas as pd\n",
    "from sklearn.model_selection import train_test_split\n"
   ]
  },
  {
   "cell_type": "code",
   "execution_count": 2,
   "metadata": {},
   "outputs": [],
   "source": [
    "\n",
    "# URL del archivo de datos\n",
    "url = \"http://archive.ics.uci.edu/ml/machine-learning-databases/breast-cancer-wisconsin/breast-cancer-wisconsin.data\"\n",
    "\n",
    "# Cargar los datos en un DataFrame\n",
    "df = pd.read_csv(url, header=None)  # No tiene encabezados, por eso usamos header=None\n"
   ]
  },
  {
   "cell_type": "code",
   "execution_count": 3,
   "metadata": {},
   "outputs": [],
   "source": [
    "# Definir nombres de columnas en español\n",
    "column_names = [\n",
    "    \"ID_Muestra\", \"Grosor_Tumor\", \"Uniformidad_Tamaño_Celular\", \n",
    "    \"Uniformidad_Forma_Celular\", \"Adhesión_Marginal\", \"Tamaño_Célula_Epitelial\", \n",
    "    \"Núcleos_Desnudos\", \"Cromatina_Blanda\", \"Nucléolos_Normales\", \n",
    "    \"Mitosis_Celular\", \"Clase\"\n",
    "]\n",
    "\n",
    "# Asignar los nombres de columna\n",
    "df.columns = column_names"
   ]
  },
  {
   "cell_type": "code",
   "execution_count": 4,
   "metadata": {},
   "outputs": [
    {
     "data": {
      "text/html": [
       "<div>\n",
       "<style scoped>\n",
       "    .dataframe tbody tr th:only-of-type {\n",
       "        vertical-align: middle;\n",
       "    }\n",
       "\n",
       "    .dataframe tbody tr th {\n",
       "        vertical-align: top;\n",
       "    }\n",
       "\n",
       "    .dataframe thead th {\n",
       "        text-align: right;\n",
       "    }\n",
       "</style>\n",
       "<table border=\"1\" class=\"dataframe\">\n",
       "  <thead>\n",
       "    <tr style=\"text-align: right;\">\n",
       "      <th></th>\n",
       "      <th>ID_Muestra</th>\n",
       "      <th>Porcentaje</th>\n",
       "    </tr>\n",
       "    <tr>\n",
       "      <th>Clase</th>\n",
       "      <th></th>\n",
       "      <th></th>\n",
       "    </tr>\n",
       "  </thead>\n",
       "  <tbody>\n",
       "    <tr>\n",
       "      <th>2</th>\n",
       "      <td>458</td>\n",
       "      <td>65.522175</td>\n",
       "    </tr>\n",
       "    <tr>\n",
       "      <th>4</th>\n",
       "      <td>241</td>\n",
       "      <td>34.477825</td>\n",
       "    </tr>\n",
       "    <tr>\n",
       "      <th>Total</th>\n",
       "      <td>699</td>\n",
       "      <td>100.000000</td>\n",
       "    </tr>\n",
       "  </tbody>\n",
       "</table>\n",
       "</div>"
      ],
      "text/plain": [
       "       ID_Muestra  Porcentaje\n",
       "Clase                        \n",
       "2             458   65.522175\n",
       "4             241   34.477825\n",
       "Total         699  100.000000"
      ]
     },
     "execution_count": 4,
     "metadata": {},
     "output_type": "execute_result"
    }
   ],
   "source": [
    "#Validamos si coincide con la información proporcionada\n",
    "pivot_table = df.pivot_table(values=\"ID_Muestra\", index=\"Clase\", aggfunc=\"count\")\n",
    "pivot_table.loc[\"Total\"] = pivot_table.sum()\n",
    "pivot_table[\"Porcentaje\"] = (pivot_table[\"ID_Muestra\"] / pivot_table.loc[\"Total\", \"ID_Muestra\"]) * 100\n",
    "pivot_table"
   ]
  },
  {
   "cell_type": "code",
   "execution_count": 5,
   "metadata": {},
   "outputs": [],
   "source": [
    "#de los 699 guardaremos el 60% para entrenamiento\n",
    "train_df, temporal = train_test_split(df, test_size=0.4, random_state=0)  \n",
    "#en temporal quedo guardado el 40% de los datos originales\n",
    "#asi que si dividimos en dos el 40% nos quedaran dos grupos de 20% cada uno\n",
    "valid_df, test_df = train_test_split(temporal, test_size=0.5, random_state=0)  # 20% validación, 20% prueba\n"
   ]
  },
  {
   "cell_type": "code",
   "execution_count": 26,
   "metadata": {},
   "outputs": [
    {
     "name": "stdout",
     "output_type": "stream",
     "text": [
      "False\n",
      "     ID_Muestra  Grosor_Tumor  Uniformidad_Tamaño_Celular  \\\n",
      "23      1057013             8                           4   \n",
      "40      1096800             6                           6   \n",
      "139     1183246             1                           1   \n",
      "145     1184840             1                           1   \n",
      "158     1193683             1                           1   \n",
      "164     1197510             5                           1   \n",
      "235     1241232             3                           1   \n",
      "249      169356             3                           1   \n",
      "275      432809             3                           1   \n",
      "292      563649             8                           8   \n",
      "294      606140             1                           1   \n",
      "297       61634             5                           4   \n",
      "315      704168             4                           6   \n",
      "321      733639             3                           1   \n",
      "411     1238464             1                           1   \n",
      "617     1057067             1                           1   \n",
      "\n",
      "     Uniformidad_Forma_Celular  Adhesión_Marginal  Tamaño_Célula_Epitelial  \\\n",
      "23                           5                  1                        2   \n",
      "40                           6                  9                        6   \n",
      "139                          1                  1                        1   \n",
      "145                          3                  1                        2   \n",
      "158                          2                  1                        3   \n",
      "164                          1                  1                        2   \n",
      "235                          4                  1                        2   \n",
      "249                          1                  1                        2   \n",
      "275                          3                  1                        2   \n",
      "292                          8                  1                        2   \n",
      "294                          1                  1                        2   \n",
      "297                          3                  1                        2   \n",
      "315                          5                  6                        7   \n",
      "321                          1                  1                        2   \n",
      "411                          1                  1                        1   \n",
      "617                          1                  1                        1   \n",
      "\n",
      "    Núcleos_Desnudos  Cromatina_Blanda  Nucléolos_Normales  Mitosis_Celular  \\\n",
      "23                 ?                 7                   3                1   \n",
      "40                 ?                 7                   8                1   \n",
      "139                ?                 2                   1                1   \n",
      "145                ?                 2                   1                1   \n",
      "158                ?                 1                   1                1   \n",
      "164                ?                 3                   1                1   \n",
      "235                ?                 3                   1                1   \n",
      "249                ?                 3                   1                1   \n",
      "275                ?                 2                   1                1   \n",
      "292                ?                 6                  10                1   \n",
      "294                ?                 2                   1                1   \n",
      "297                ?                 2                   3                1   \n",
      "315                ?                 4                   9                1   \n",
      "321                ?                 3                   1                1   \n",
      "411                ?                 2                   1                1   \n",
      "617                ?                 1                   1                1   \n",
      "\n",
      "     Clase  \n",
      "23       4  \n",
      "40       2  \n",
      "139      2  \n",
      "145      2  \n",
      "158      2  \n",
      "164      2  \n",
      "235      2  \n",
      "249      2  \n",
      "275      2  \n",
      "292      4  \n",
      "294      2  \n",
      "297      2  \n",
      "315      2  \n",
      "321      2  \n",
      "411      2  \n",
      "617      2  \n"
     ]
    },
    {
     "name": "stderr",
     "output_type": "stream",
     "text": [
      "/var/folders/rl/jjdlbdsd5dzcsz5tp6_835300000gn/T/ipykernel_3939/2782451103.py:5: FutureWarning: DataFrame.applymap has been deprecated. Use DataFrame.map instead.\n",
      "  print(df[df.applymap(lambda x: not str(x).replace('.', '', 1).isdigit()).any(axis=1)])\n"
     ]
    }
   ],
   "source": [
    "#Buscamos algun valor nulo \n",
    "print(df.isnull().values.any())\n",
    "\n",
    "#Al no encontrar valores nulos buscamos algun valor no numerico en nuestro dataset\n",
    "print(df[df.applymap(lambda x: not str(x).replace('.', '', 1).isdigit()).any(axis=1)])\n"
   ]
  },
  {
   "cell_type": "code",
   "execution_count": 27,
   "metadata": {},
   "outputs": [],
   "source": [
    "#Encontramos 16 valores \"?\" en la columna \"Núcleos_Desnudos\"\n"
   ]
  }
 ],
 "metadata": {
  "kernelspec": {
   "display_name": "Python 3",
   "language": "python",
   "name": "python3"
  },
  "language_info": {
   "codemirror_mode": {
    "name": "ipython",
    "version": 3
   },
   "file_extension": ".py",
   "mimetype": "text/x-python",
   "name": "python",
   "nbconvert_exporter": "python",
   "pygments_lexer": "ipython3",
   "version": "3.9.6"
  }
 },
 "nbformat": 4,
 "nbformat_minor": 2
}
