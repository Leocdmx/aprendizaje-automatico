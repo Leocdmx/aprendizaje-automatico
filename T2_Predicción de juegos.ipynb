{
 "cells": [
  {
   "cell_type": "markdown",
   "metadata": {},
   "source": [
    "Un club del juego de Go recopiló los resultados de varias partidas entre diferentes jugadores, al-\n",
    "macenados en el archivo partidas_entrenamiento.txt, con el objetivo de predecir el resultado de\n",
    "\n",
    "partidas futuras, ejemplos de las cuales se encuentran en el archivo partidas_prueba.txt. Los ar-\n",
    "chivos partidas_entrenamiento.txt y partidas_prueba.txt5\n",
    "\n",
    "contienen 3 columnas: la primera\n",
    "corresponde al identificador del jugador A, la segunda al identificador del jugador B y la tercera es\n",
    "el resultado de la partida (1 si ganó el jugador A o 0 si ganó el jugador B). En el club hay un total\n",
    "de D jugadores, por lo que cada identificador es un número entero entre 1 y D. La predicción del\n",
    "resultado de un juego se puede plantear como un problema de clasificación: dados 2 jugadores (A y\n",
    "B) se requiere predecir si A ganó (y = 1) o si fue B (y = 0). Realice los siguientes ejercicios:"
   ]
  },
  {
   "cell_type": "code",
   "execution_count": 1,
   "metadata": {},
   "outputs": [],
   "source": [
    "import pandas as pd"
   ]
  },
  {
   "cell_type": "code",
   "execution_count": 11,
   "metadata": {},
   "outputs": [],
   "source": [
    "#Extracción de datos de juegos\n",
    "\n",
    "column_names = [ \"player_A\", \"player_B\", \"winner\"]\n",
    "\n",
    "games_train = pd.read_csv(\"/Users/Leon/Documents/Data GH/Aprendizaje automático /T2/regl_data/juegos_entrenamiento.txt\", sep=\" \", header=None,names=column_names)\n",
    "games_test = pd.read_csv(\"/Users/Leon/Documents/Data GH/Aprendizaje automático /T2/regl_data/juegos_validacion.txt\", sep=\" \", header=None,names=column_names)"
   ]
  },
  {
   "cell_type": "markdown",
   "metadata": {},
   "source": [
    "En go existe una ventaja estrategica al empezar el juego, en partidas oficiales al jugador el jugador negro (quien empieza) tiene una ventaja estratigica al tener la posibilidad de marcar el ritmo del juego. Para compensar esto el jugador de blancas (el segundo en tirar) recibe 7.5 o 6.5 puntos extras al final de la partida.  Para terminos de este ejercicio supondremos que el los indicadores de ganar o perder ya cuentan con este 'handicap' por lo que el orden del jugador 'A' o 'B' es indistinto."
   ]
  },
  {
   "cell_type": "code",
   "execution_count": null,
   "metadata": {},
   "outputs": [
    {
     "data": {
      "text/plain": [
       "<Axes: xlabel='winner'>"
      ]
     },
     "execution_count": 16,
     "metadata": {},
     "output_type": "execute_result"
    },
    {
     "data": {
      "image/png": "[encoded data removed]",
      "text/plain": [
       "<Figure size 640x480 with 1 Axes>"
      ]
     },
     "metadata": {},
     "output_type": "display_data"
    }
   ],
   "source": [
    "#Veremos que tan balanceadas estan las clases\n",
    "games_train[\"winner\"].value_counts().plot(kind=\"bar\")"
   ]
  },
  {
   "cell_type": "markdown",
   "metadata": {},
   "source": [
    "De primera instancia parecen estar equilibradas, pero lo que nos esta diciendo es que hay un poco más de partidas donde gana el jugador 'A' asi que tendremos que descomponer para ver la distribución de cada jugador"
   ]
  },
  {
   "cell_type": "code",
   "execution_count": null,
   "metadata": {},
   "outputs": [
    {
     "data": {
      "text/plain": [
       "array([  1,   2,   3,   4,   5,   6,   7,   8,   9,  10,  11,  12,  13,\n",
       "        14,  15,  16,  17,  18,  19,  20,  21,  22,  23,  24,  25,  26,\n",
       "        27,  28,  29,  30,  31,  32,  33,  34,  35,  36,  37,  38,  39,\n",
       "        40,  41,  42,  43,  44,  45,  46,  47,  48,  49,  50,  51,  52,\n",
       "        53,  54,  55,  56,  57,  58,  59,  60,  61,  62,  63,  64,  65,\n",
       "        66,  67,  68,  69,  70,  71,  72,  73,  74,  75,  76,  77,  78,\n",
       "        79,  80,  81,  82,  83,  84,  85,  86,  87,  88,  89,  90,  91,\n",
       "        92,  93,  94,  95,  96,  97,  98,  99, 100, 101, 102, 103, 104,\n",
       "       105, 106, 107, 108, 109, 110, 111, 112, 113, 114, 115, 116, 117,\n",
       "       118, 119, 120, 121, 122, 123, 124, 125, 126, 127, 128, 129, 130,\n",
       "       131, 132, 133, 134, 135, 136, 137, 138, 139, 140, 141, 142])"
      ]
     },
     "execution_count": 19,
     "metadata": {},
     "output_type": "execute_result"
    }
   ],
   "source": [
    "# Vemos con cuantos jugadores distintos contamos \n",
    "import numpy as np\n",
    "\n",
    "np.union1d(np.unique(games_train[\"player_A\"].values), np.unique(games_train[\"player_B\"].values))\n"
   ]
  },
  {
   "cell_type": "markdown",
   "metadata": {},
   "source": [
    "Parece que tenemos partidas de los 142 jugadores listados, ahora veremos si tenemos al menos una victoria y una derrota por cada jugador \n"
   ]
  },
  {
   "cell_type": "code",
   "execution_count": null,
   "metadata": {},
   "outputs": [],
   "source": [
    "\n",
    "\n",
    "def conteos(df, players,busqueda=1):\n",
    " \n",
    "    Victorias_A = 0\n",
    "    Victorias_B = 0\n",
    "\n",
    "    for numero in players:\n",
    "        Victorias_A += ((df['C'] == 1) & (df['A'] == numero)).sum()\n",
    "        Victorias_B += ((df['C'] == 0) & (df['B'] == numero)).sum()\n",
    "\n",
    "    resultado_final = conteo_A_cuando_C_es_1 + conteo_B_cuando_C_es_0\n",
    "    return resultado_final\n",
    "\n",
    "# Ejemplo de uso:\n",
    "# Suponiendo que tu DataFrame se llama 'df' y tienes una lista de números a buscar:\n",
    "# numeros_a_buscar = [1, 2, 3]  # Reemplaza con tus números\n",
    "# resultado = calcular_conteo_con_array(df, numeros_a_buscar)\n",
    "# print(resultado)"
   ]
  }
 ],
 "metadata": {
  "kernelspec": {
   "display_name": "Python 3",
   "language": "python",
   "name": "python3"
  },
  "language_info": {
   "codemirror_mode": {
    "name": "ipython",
    "version": 3
   },
   "file_extension": ".py",
   "mimetype": "text/x-python",
   "name": "python",
   "nbconvert_exporter": "python",
   "pygments_lexer": "ipython3",
   "version": "3.9.6"
  }
 },
 "nbformat": 4,
 "nbformat_minor": 2
}
