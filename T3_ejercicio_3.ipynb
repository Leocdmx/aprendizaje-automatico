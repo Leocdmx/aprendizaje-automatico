{
 "cells": [
  {
   "cell_type": "code",
   "execution_count": null,
   "metadata": {},
   "outputs": [
    {
     "name": "stdout",
     "output_type": "stream",
     "text": [
      "Found existing installation: pgmpy 1.0.0\n",
      "Uninstalling pgmpy-1.0.0:\n",
      "  Would remove:\n",
      "    /Users/Leon/Library/Python/3.9/lib/python/site-packages/pgmpy-1.0.0.dist-info/*\n",
      "    /Users/Leon/Library/Python/3.9/lib/python/site-packages/pgmpy/*\n",
      "Proceed (Y/n)? "
     ]
    }
   ],
   "source": [
    "!pip uninstall pgmpy\n",
    "!pip install pgmpy==0.1.20\n",
    "\n",
    "\n"
   ]
  },
  {
   "cell_type": "code",
   "execution_count": 2,
   "metadata": {},
   "outputs": [
    {
     "ename": "TypeError",
     "evalue": "unsupported operand type(s) for |: 'type' and 'type'",
     "output_type": "error",
     "traceback": [
      "\u001b[0;31m---------------------------------------------------------------------------\u001b[0m",
      "\u001b[0;31mTypeError\u001b[0m                                 Traceback (most recent call last)",
      "Cell \u001b[0;32mIn[2], line 1\u001b[0m\n\u001b[0;32m----> 1\u001b[0m \u001b[38;5;28;01mfrom\u001b[39;00m\u001b[38;5;250m \u001b[39m\u001b[38;5;21;01mpgmpy\u001b[39;00m\u001b[38;5;21;01m.\u001b[39;00m\u001b[38;5;21;01mmodels\u001b[39;00m\u001b[38;5;250m \u001b[39m\u001b[38;5;28;01mimport\u001b[39;00m DiscreteBayesianNetwork \u001b[38;5;66;03m# Import DiscreteBayesianNetwork instead of BayesianNetwork\u001b[39;00m\n\u001b[1;32m      2\u001b[0m \u001b[38;5;28;01mfrom\u001b[39;00m\u001b[38;5;250m \u001b[39m\u001b[38;5;21;01mpgmpy\u001b[39;00m\u001b[38;5;21;01m.\u001b[39;00m\u001b[38;5;21;01mfactors\u001b[39;00m\u001b[38;5;21;01m.\u001b[39;00m\u001b[38;5;21;01mdiscrete\u001b[39;00m\u001b[38;5;250m \u001b[39m\u001b[38;5;28;01mimport\u001b[39;00m TabularCPD\n\u001b[1;32m      3\u001b[0m \u001b[38;5;28;01mfrom\u001b[39;00m\u001b[38;5;250m \u001b[39m\u001b[38;5;21;01mpgmpy\u001b[39;00m\u001b[38;5;21;01m.\u001b[39;00m\u001b[38;5;21;01minference\u001b[39;00m\u001b[38;5;250m \u001b[39m\u001b[38;5;28;01mimport\u001b[39;00m VariableElimination\n",
      "File \u001b[0;32m~/Library/Python/3.9/lib/python/site-packages/pgmpy/models/__init__.py:2\u001b[0m\n\u001b[1;32m      1\u001b[0m \u001b[38;5;28;01mfrom\u001b[39;00m\u001b[38;5;250m \u001b[39m\u001b[38;5;21;01m.\u001b[39;00m\u001b[38;5;21;01mBayesianNetwork\u001b[39;00m\u001b[38;5;250m \u001b[39m\u001b[38;5;28;01mimport\u001b[39;00m BayesianNetwork\n\u001b[0;32m----> 2\u001b[0m \u001b[38;5;28;01mfrom\u001b[39;00m\u001b[38;5;250m \u001b[39m\u001b[38;5;21;01m.\u001b[39;00m\u001b[38;5;21;01mClusterGraph\u001b[39;00m\u001b[38;5;250m \u001b[39m\u001b[38;5;28;01mimport\u001b[39;00m ClusterGraph\n\u001b[1;32m      3\u001b[0m \u001b[38;5;28;01mfrom\u001b[39;00m\u001b[38;5;250m \u001b[39m\u001b[38;5;21;01m.\u001b[39;00m\u001b[38;5;21;01mDiscreteBayesianNetwork\u001b[39;00m\u001b[38;5;250m \u001b[39m\u001b[38;5;28;01mimport\u001b[39;00m DiscreteBayesianNetwork\n\u001b[1;32m      4\u001b[0m \u001b[38;5;28;01mfrom\u001b[39;00m\u001b[38;5;250m \u001b[39m\u001b[38;5;21;01m.\u001b[39;00m\u001b[38;5;21;01mDynamicBayesianNetwork\u001b[39;00m\u001b[38;5;250m \u001b[39m\u001b[38;5;28;01mimport\u001b[39;00m DynamicBayesianNetwork\n",
      "File \u001b[0;32m~/Library/Python/3.9/lib/python/site-packages/pgmpy/models/ClusterGraph.py:7\u001b[0m\n\u001b[1;32m      3\u001b[0m \u001b[38;5;28;01mfrom\u001b[39;00m\u001b[38;5;250m \u001b[39m\u001b[38;5;21;01mcollections\u001b[39;00m\u001b[38;5;250m \u001b[39m\u001b[38;5;28;01mimport\u001b[39;00m defaultdict\n\u001b[1;32m      5\u001b[0m \u001b[38;5;28;01mimport\u001b[39;00m\u001b[38;5;250m \u001b[39m\u001b[38;5;21;01mnumpy\u001b[39;00m\u001b[38;5;250m \u001b[39m\u001b[38;5;28;01mas\u001b[39;00m\u001b[38;5;250m \u001b[39m\u001b[38;5;21;01mnp\u001b[39;00m\n\u001b[0;32m----> 7\u001b[0m \u001b[38;5;28;01mfrom\u001b[39;00m\u001b[38;5;250m \u001b[39m\u001b[38;5;21;01mpgmpy\u001b[39;00m\u001b[38;5;21;01m.\u001b[39;00m\u001b[38;5;21;01mbase\u001b[39;00m\u001b[38;5;250m \u001b[39m\u001b[38;5;28;01mimport\u001b[39;00m UndirectedGraph\n\u001b[1;32m      8\u001b[0m \u001b[38;5;28;01mfrom\u001b[39;00m\u001b[38;5;250m \u001b[39m\u001b[38;5;21;01mpgmpy\u001b[39;00m\u001b[38;5;21;01m.\u001b[39;00m\u001b[38;5;21;01mfactors\u001b[39;00m\u001b[38;5;250m \u001b[39m\u001b[38;5;28;01mimport\u001b[39;00m FactorDict, factor_product\n\u001b[1;32m      9\u001b[0m \u001b[38;5;28;01mfrom\u001b[39;00m\u001b[38;5;250m \u001b[39m\u001b[38;5;21;01mpgmpy\u001b[39;00m\u001b[38;5;21;01m.\u001b[39;00m\u001b[38;5;21;01mutils\u001b[39;00m\u001b[38;5;250m \u001b[39m\u001b[38;5;28;01mimport\u001b[39;00m compat_fns\n",
      "File \u001b[0;32m~/Library/Python/3.9/lib/python/site-packages/pgmpy/base/__init__.py:2\u001b[0m\n\u001b[1;32m      1\u001b[0m \u001b[38;5;28;01mfrom\u001b[39;00m\u001b[38;5;250m \u001b[39m\u001b[38;5;21;01m.\u001b[39;00m\u001b[38;5;21;01mUndirectedGraph\u001b[39;00m\u001b[38;5;250m \u001b[39m\u001b[38;5;28;01mimport\u001b[39;00m UndirectedGraph\n\u001b[0;32m----> 2\u001b[0m \u001b[38;5;28;01mfrom\u001b[39;00m\u001b[38;5;250m \u001b[39m\u001b[38;5;21;01m.\u001b[39;00m\u001b[38;5;21;01mDAG\u001b[39;00m\u001b[38;5;250m \u001b[39m\u001b[38;5;28;01mimport\u001b[39;00m DAG, PDAG\n\u001b[1;32m      4\u001b[0m __all__ \u001b[38;5;241m=\u001b[39m [\u001b[38;5;124m\"\u001b[39m\u001b[38;5;124mUndirectedGraph\u001b[39m\u001b[38;5;124m\"\u001b[39m, \u001b[38;5;124m\"\u001b[39m\u001b[38;5;124mDAG\u001b[39m\u001b[38;5;124m\"\u001b[39m, \u001b[38;5;124m\"\u001b[39m\u001b[38;5;124mPDAG\u001b[39m\u001b[38;5;124m\"\u001b[39m]\n",
      "File \u001b[0;32m~/Library/Python/3.9/lib/python/site-packages/pgmpy/base/DAG.py:15\u001b[0m\n\u001b[1;32m     11\u001b[0m \u001b[38;5;28;01mfrom\u001b[39;00m\u001b[38;5;250m \u001b[39m\u001b[38;5;21;01mpgmpy\u001b[39;00m\u001b[38;5;21;01m.\u001b[39;00m\u001b[38;5;21;01mindependencies\u001b[39;00m\u001b[38;5;250m \u001b[39m\u001b[38;5;28;01mimport\u001b[39;00m Independencies\n\u001b[1;32m     12\u001b[0m \u001b[38;5;28;01mfrom\u001b[39;00m\u001b[38;5;250m \u001b[39m\u001b[38;5;21;01mpgmpy\u001b[39;00m\u001b[38;5;21;01m.\u001b[39;00m\u001b[38;5;21;01mutils\u001b[39;00m\u001b[38;5;21;01m.\u001b[39;00m\u001b[38;5;21;01mparser\u001b[39;00m\u001b[38;5;250m \u001b[39m\u001b[38;5;28;01mimport\u001b[39;00m parse_dagitty, parse_lavaan\n\u001b[0;32m---> 15\u001b[0m \u001b[38;5;28;01mclass\u001b[39;00m\u001b[38;5;250m \u001b[39m\u001b[38;5;21;01mDAG\u001b[39;00m(nx\u001b[38;5;241m.\u001b[39mDiGraph):\n\u001b[1;32m     16\u001b[0m \u001b[38;5;250m    \u001b[39m\u001b[38;5;124;03m\"\"\"\u001b[39;00m\n\u001b[1;32m     17\u001b[0m \u001b[38;5;124;03m    Base class for all Directed Graphical Models.\u001b[39;00m\n\u001b[1;32m     18\u001b[0m \n\u001b[0;32m   (...)\u001b[0m\n\u001b[1;32m     72\u001b[0m \u001b[38;5;124;03m    3\u001b[39;00m\n\u001b[1;32m     73\u001b[0m \u001b[38;5;124;03m    \"\"\"\u001b[39;00m\n\u001b[1;32m     75\u001b[0m     \u001b[38;5;28;01mdef\u001b[39;00m\u001b[38;5;250m \u001b[39m\u001b[38;5;21m__init__\u001b[39m(\n\u001b[1;32m     76\u001b[0m         \u001b[38;5;28mself\u001b[39m,\n\u001b[1;32m     77\u001b[0m         ebunch\u001b[38;5;241m=\u001b[39m\u001b[38;5;28;01mNone\u001b[39;00m,\n\u001b[0;32m   (...)\u001b[0m\n\u001b[1;32m     80\u001b[0m         dagitty_str\u001b[38;5;241m=\u001b[39m\u001b[38;5;28;01mNone\u001b[39;00m,\n\u001b[1;32m     81\u001b[0m     ):\n",
      "File \u001b[0;32m~/Library/Python/3.9/lib/python/site-packages/pgmpy/base/DAG.py:263\u001b[0m, in \u001b[0;36mDAG\u001b[0;34m()\u001b[0m\n\u001b[1;32m    260\u001b[0m         \u001b[38;5;28;01mfor\u001b[39;00m index \u001b[38;5;129;01min\u001b[39;00m \u001b[38;5;28mrange\u001b[39m(\u001b[38;5;28mlen\u001b[39m(nodes)):\n\u001b[1;32m    261\u001b[0m             \u001b[38;5;28mself\u001b[39m\u001b[38;5;241m.\u001b[39madd_node(node\u001b[38;5;241m=\u001b[39mnodes[index], latent\u001b[38;5;241m=\u001b[39mlatent[index])\n\u001b[0;32m--> 263\u001b[0m \u001b[38;5;28;01mdef\u001b[39;00m\u001b[38;5;250m \u001b[39m\u001b[38;5;21madd_edge\u001b[39m(\u001b[38;5;28mself\u001b[39m, u, v, weight: \u001b[38;5;28;43mint\u001b[39;49m\u001b[43m \u001b[49m\u001b[38;5;241;43m|\u001b[39;49m\u001b[43m \u001b[49m\u001b[38;5;28;43mfloat\u001b[39;49m \u001b[38;5;241m=\u001b[39m \u001b[38;5;28;01mNone\u001b[39;00m):\n\u001b[1;32m    264\u001b[0m \u001b[38;5;250m    \u001b[39m\u001b[38;5;124;03m\"\"\"\u001b[39;00m\n\u001b[1;32m    265\u001b[0m \u001b[38;5;124;03m    Add an edge between u and v.\u001b[39;00m\n\u001b[1;32m    266\u001b[0m \n\u001b[0;32m   (...)\u001b[0m\n\u001b[1;32m    301\u001b[0m \u001b[38;5;124;03m    {'weight': 0.1}\u001b[39;00m\n\u001b[1;32m    302\u001b[0m \u001b[38;5;124;03m    \"\"\"\u001b[39;00m\n\u001b[1;32m    303\u001b[0m     \u001b[38;5;28msuper\u001b[39m(DAG, \u001b[38;5;28mself\u001b[39m)\u001b[38;5;241m.\u001b[39madd_edge(u, v, weight\u001b[38;5;241m=\u001b[39mweight)\n",
      "\u001b[0;31mTypeError\u001b[0m: unsupported operand type(s) for |: 'type' and 'type'"
     ]
    }
   ],
   "source": [
    "from pgmpy.models import DiscreteBayesianNetwork # Import DiscreteBayesianNetwork instead of BayesianNetwork\n",
    "from pgmpy.factors.discrete import TabularCPD\n",
    "from pgmpy.inference import VariableElimination\n",
    "\n",
    "## Se define la estructura de la red\n",
    "model = DiscreteBayesianNetwork([\n",
    "    ('E', 'F'),\n",
    "    ('E', 'S'),\n",
    "    ('F', 'V'),\n",
    "    ('S', 'V'),\n",
    "    ('V', 'D'),\n",
    "    ('S', 'C')\n",
    "])\n",
    "\n",
    "# Defining CPDs\n",
    "cpd_e = TabularCPD(variable='E', variable_card=2, values=[[0.99], [0.01]])\n",
    "\n",
    "cpd_f = TabularCPD(variable='F',\n",
    "                   variable_card=2,\n",
    "                   values=[[0.9, 0.4],  # P(F=0|E)\n",
    "                           [0.1, 0.6]], # P(F=1|E)\n",
    "                   evidence=['E'],\n",
    "                   evidence_card=[2])\n",
    "\n",
    "cpd_s = TabularCPD(variable='S',\n",
    "                   variable_card=2,\n",
    "                   values=[[0.95, 0.2],  # P(S=0|E)\n",
    "                           [0.05, 0.8]], # P(S=1|E)\n",
    "                   evidence=['E'],\n",
    "                   evidence_card=[2])\n",
    "\n",
    "cpd_v = TabularCPD(variable='V',\n",
    "                   variable_card=2,\n",
    "                   values=[[1.0, 0.3, 0.5, 0.2],  # P(V=0|S)\n",
    "                           [0.0, 0.7, 0.5, 0.8]], # P(V=1|S)\n",
    "                   evidence=['F', 'S'],\n",
    "                   evidence_card=[2, 2])\n",
    "\n",
    "cpd_c = TabularCPD(variable='C',\n",
    "                   variable_card=2,\n",
    "                   values=[[0.9, 0.25],  # P(C=0|S)\n",
    "                           [0.1, 0.75]], # P(C=1|S)\n",
    "                   evidence=['S'],\n",
    "                   evidence_card=[2])\n",
    "\n",
    "cpd_d = TabularCPD(variable='D',\n",
    "                   variable_card=2,\n",
    "                   values=[[1.0, 0.4],  # P(D=0|V)\n",
    "                           [0.0, 0.6]], # P(D=1|V)\n",
    "                   evidence=['V'],\n",
    "                   evidence_card=[2])\n",
    "\n",
    "# Agregar las Probas condicionales al modelo\n",
    "model.add_cpds(cpd_e, cpd_f, cpd_s, cpd_v, cpd_c, cpd_d)\n",
    "\n",
    "# Verificar el modelo\n",
    "assert model.check_model()\n",
    "\n",
    "# Crear un objeto de inferencia\n",
    "inference = VariableElimination(model)\n",
    "\n",
    "# Consulta\n",
    "result = inference.query(variables=[\"E\"], evidence={\"D\": 1}, show_progress=False)\n",
    "print(result)\n"
   ]
  }
 ],
 "metadata": {
  "kernelspec": {
   "display_name": "Python 3",
   "language": "python",
   "name": "python3"
  },
  "language_info": {
   "codemirror_mode": {
    "name": "ipython",
    "version": 3
   },
   "file_extension": ".py",
   "mimetype": "text/x-python",
   "name": "python",
   "nbconvert_exporter": "python",
   "pygments_lexer": "ipython3",
   "version": "3.9.6"
  }
 },
 "nbformat": 4,
 "nbformat_minor": 2
}
