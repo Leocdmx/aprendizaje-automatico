{
 "cells": [
  {
   "cell_type": "code",
   "execution_count": 4,
   "metadata": {},
   "outputs": [],
   "source": [
    "import os\n",
    "import pandas as pd"
   ]
  },
  {
   "cell_type": "code",
   "execution_count": 6,
   "metadata": {},
   "outputs": [],
   "source": [
    "X_val = pd.read_csv(\"/Users/Leon/Documents/Data GH/Aprendizaje automático /T2/regl_data/x_validacion.csv\")\n",
    "X_train = pd.read_csv(\"/Users/Leon/Documents/Data GH/Aprendizaje automático /T2/regl_data/x_entrenamiento.csv\")\n",
    "y_val = pd.read_csv(\"/Users/Leon/Documents/Data GH/Aprendizaje automático /T2/regl_data/y_validacion.csv\")\n",
    "y_train = pd.read_csv(\"/Users/Leon/Documents/Data GH/Aprendizaje automático /T2/regl_data/y_entrenamiento.csv\")"
   ]
  }
 ],
 "metadata": {
  "kernelspec": {
   "display_name": "Python 3",
   "language": "python",
   "name": "python3"
  },
  "language_info": {
   "codemirror_mode": {
    "name": "ipython",
    "version": 3
   },
   "file_extension": ".py",
   "mimetype": "text/x-python",
   "name": "python",
   "nbconvert_exporter": "python",
   "pygments_lexer": "ipython3",
   "version": "3.9.6"
  }
 },
 "nbformat": 4,
 "nbformat_minor": 2
}
