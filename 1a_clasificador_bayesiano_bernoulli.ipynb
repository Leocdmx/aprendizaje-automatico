{
  "cells": [
    {
      "cell_type": "markdown",
      "metadata": {
        "colab_type": "text",
        "id": "view-in-github"
      },
      "source": [
        "<a href=\"https://colab.research.google.com/github/gibranfp/CursoAprendizajeAutomatizado/blob/2025-2/notebooks/1a_clasificador_bayesiano_bernoulli.ipynb\" target=\"_parent\"><img src=\"https://colab.research.google.com/assets/colab-badge.svg\" alt=\"Open In Colab\"/></a>"
      ]
    },
    {
      "cell_type": "markdown",
      "metadata": {
        "id": "BUT7nnAUzJzT"
      },
      "source": [
        "# Clasificador bayesiano ingenuo de Bernoulli\n",
        "En esta libreta programaremos un clasificador bayesiano ingenuo en el cual se presupone que la distribución de los atributos dada la clase es una Bernoulli y hay dos posibles clases."
      ]
    },
    {
      "cell_type": "code",
      "execution_count": 13,
      "metadata": {
        "id": "9WTkCgB7zJzW"
      },
      "outputs": [],
      "source": [
        "import numpy as np\n",
        "import pandas as pd\n",
        "import matplotlib.pyplot as plt\n",
        "\n",
        "from sklearn.model_selection import train_test_split\n",
        "from sklearn.datasets import fetch_20newsgroups\n",
        "from sklearn.feature_extraction.text import CountVectorizer\n",
        "\n",
        "np.random.seed(42)"
      ]
    },
    {
      "cell_type": "markdown",
      "metadata": {
        "id": "f-kw792rzJzX"
      },
      "source": [
        "## Carga de datos"
      ]
    },
    {
      "cell_type": "markdown",
      "metadata": {
        "id": "GsggTrNEzJzX"
      },
      "source": [
        "El conjunto de entrenamiento consiste de 11 documentos que pertenecen a las clases de deportes (0) o informática (1). Cada documento es un vector de 8 dimensiones donde cada dimensión representa la frecuencia de las palabras en nuestro vocabulario de interés:\n",
        "\n",
        "$$\n",
        "V = \\begin{vmatrix}\n",
        "p_{1} = \\textrm{gol}\\\\\n",
        "p_{2} = \\textrm{maestro}\\\\\n",
        "p_{3} = \\textrm{velocidad}\\\\\n",
        "p_{4} = \\textrm{defensa}\\\\\n",
        "p_{5} = \\textrm{rendimiento}\\\\\n",
        "p_{6} = \\textrm{campo}\\\\\n",
        "p_{7} = \\textrm{movimiento}\\\\\n",
        "p_{8} = \\textrm{ataque}\n",
        "\\end{vmatrix}  \n",
        "$$\n",
        "\n",
        " Lectura con Pandas:"
      ]
    },
    {
      "cell_type": "code",
      "execution_count": 14,
      "metadata": {
        "colab": {
          "base_uri": "https://localhost:8080/",
          "height": 394
        },
        "id": "yOEwTCMOzJzY",
        "outputId": "0b85d9db-c91b-46b2-81b7-04ac640df207"
      },
      "outputs": [
        {
          "data": {
            "text/html": [
              "<div>\n",
              "<style scoped>\n",
              "    .dataframe tbody tr th:only-of-type {\n",
              "        vertical-align: middle;\n",
              "    }\n",
              "\n",
              "    .dataframe tbody tr th {\n",
              "        vertical-align: top;\n",
              "    }\n",
              "\n",
              "    .dataframe thead th {\n",
              "        text-align: right;\n",
              "    }\n",
              "</style>\n",
              "<table border=\"1\" class=\"dataframe\">\n",
              "  <thead>\n",
              "    <tr style=\"text-align: right;\">\n",
              "      <th></th>\n",
              "      <th>p1</th>\n",
              "      <th>p2</th>\n",
              "      <th>p3</th>\n",
              "      <th>p4</th>\n",
              "      <th>p5</th>\n",
              "      <th>p6</th>\n",
              "      <th>p7</th>\n",
              "      <th>p8</th>\n",
              "      <th>c</th>\n",
              "    </tr>\n",
              "  </thead>\n",
              "  <tbody>\n",
              "    <tr>\n",
              "      <th>0</th>\n",
              "      <td>1</td>\n",
              "      <td>0</td>\n",
              "      <td>1</td>\n",
              "      <td>0</td>\n",
              "      <td>1</td>\n",
              "      <td>1</td>\n",
              "      <td>0</td>\n",
              "      <td>1</td>\n",
              "      <td>0</td>\n",
              "    </tr>\n",
              "    <tr>\n",
              "      <th>1</th>\n",
              "      <td>1</td>\n",
              "      <td>0</td>\n",
              "      <td>1</td>\n",
              "      <td>0</td>\n",
              "      <td>0</td>\n",
              "      <td>1</td>\n",
              "      <td>0</td>\n",
              "      <td>0</td>\n",
              "      <td>0</td>\n",
              "    </tr>\n",
              "    <tr>\n",
              "      <th>2</th>\n",
              "      <td>0</td>\n",
              "      <td>0</td>\n",
              "      <td>1</td>\n",
              "      <td>0</td>\n",
              "      <td>1</td>\n",
              "      <td>1</td>\n",
              "      <td>0</td>\n",
              "      <td>1</td>\n",
              "      <td>0</td>\n",
              "    </tr>\n",
              "    <tr>\n",
              "      <th>3</th>\n",
              "      <td>0</td>\n",
              "      <td>0</td>\n",
              "      <td>0</td>\n",
              "      <td>1</td>\n",
              "      <td>1</td>\n",
              "      <td>0</td>\n",
              "      <td>1</td>\n",
              "      <td>1</td>\n",
              "      <td>0</td>\n",
              "    </tr>\n",
              "    <tr>\n",
              "      <th>4</th>\n",
              "      <td>1</td>\n",
              "      <td>1</td>\n",
              "      <td>0</td>\n",
              "      <td>0</td>\n",
              "      <td>0</td>\n",
              "      <td>1</td>\n",
              "      <td>0</td>\n",
              "      <td>1</td>\n",
              "      <td>0</td>\n",
              "    </tr>\n",
              "    <tr>\n",
              "      <th>5</th>\n",
              "      <td>0</td>\n",
              "      <td>0</td>\n",
              "      <td>1</td>\n",
              "      <td>1</td>\n",
              "      <td>1</td>\n",
              "      <td>1</td>\n",
              "      <td>0</td>\n",
              "      <td>0</td>\n",
              "      <td>0</td>\n",
              "    </tr>\n",
              "    <tr>\n",
              "      <th>6</th>\n",
              "      <td>0</td>\n",
              "      <td>1</td>\n",
              "      <td>0</td>\n",
              "      <td>1</td>\n",
              "      <td>0</td>\n",
              "      <td>0</td>\n",
              "      <td>1</td>\n",
              "      <td>0</td>\n",
              "      <td>1</td>\n",
              "    </tr>\n",
              "    <tr>\n",
              "      <th>7</th>\n",
              "      <td>1</td>\n",
              "      <td>0</td>\n",
              "      <td>0</td>\n",
              "      <td>1</td>\n",
              "      <td>1</td>\n",
              "      <td>0</td>\n",
              "      <td>1</td>\n",
              "      <td>1</td>\n",
              "      <td>1</td>\n",
              "    </tr>\n",
              "    <tr>\n",
              "      <th>8</th>\n",
              "      <td>0</td>\n",
              "      <td>1</td>\n",
              "      <td>0</td>\n",
              "      <td>1</td>\n",
              "      <td>0</td>\n",
              "      <td>1</td>\n",
              "      <td>1</td>\n",
              "      <td>0</td>\n",
              "      <td>1</td>\n",
              "    </tr>\n",
              "    <tr>\n",
              "      <th>9</th>\n",
              "      <td>0</td>\n",
              "      <td>0</td>\n",
              "      <td>0</td>\n",
              "      <td>1</td>\n",
              "      <td>0</td>\n",
              "      <td>0</td>\n",
              "      <td>1</td>\n",
              "      <td>1</td>\n",
              "      <td>1</td>\n",
              "    </tr>\n",
              "    <tr>\n",
              "      <th>10</th>\n",
              "      <td>0</td>\n",
              "      <td>1</td>\n",
              "      <td>1</td>\n",
              "      <td>1</td>\n",
              "      <td>0</td>\n",
              "      <td>0</td>\n",
              "      <td>1</td>\n",
              "      <td>1</td>\n",
              "      <td>1</td>\n",
              "    </tr>\n",
              "  </tbody>\n",
              "</table>\n",
              "</div>"
            ],
            "text/plain": [
              "    p1  p2  p3  p4  p5  p6  p7  p8  c \n",
              "0    1   0   1   0   1   1   0   1   0\n",
              "1    1   0   1   0   0   1   0   0   0\n",
              "2    0   0   1   0   1   1   0   1   0\n",
              "3    0   0   0   1   1   0   1   1   0\n",
              "4    1   1   0   0   0   1   0   1   0\n",
              "5    0   0   1   1   1   1   0   0   0\n",
              "6    0   1   0   1   0   0   1   0   1\n",
              "7    1   0   0   1   1   0   1   1   1\n",
              "8    0   1   0   1   0   1   1   0   1\n",
              "9    0   0   0   1   0   0   1   1   1\n",
              "10   0   1   1   1   0   0   1   1   1"
            ]
          },
          "execution_count": 14,
          "metadata": {},
          "output_type": "execute_result"
        }
      ],
      "source": [
        "df = pd.read_csv('https://raw.githubusercontent.com/gibranfp/CursoAprendizajeAutomatizado/master/data/dep_inf.csv')\n",
        "df"
      ]
    },
    {
      "cell_type": "markdown",
      "metadata": {
        "id": "g7JU_Dl8zJzZ"
      },
      "source": [
        "Conversion a numpy:"
      ]
    },
    {
      "cell_type": "code",
      "execution_count": 15,
      "metadata": {
        "id": "x65XXG8-zJzZ"
      },
      "outputs": [],
      "source": [
        "data = df.to_numpy()\n",
        "\n",
        "X_ent = data[:, :-1]\n",
        "y_ent = data[:, -1]\n",
        "\n",
        "X_nuevos = np.array([[0, 0, 0 , 1, 1, 1, 1, 1],\n",
        "                     [0, 1, 0, 1, 1, 0, 0, 1],\n",
        "                     [1, 1, 1, 0, 0, 1, 0, 1]])"
      ]
    },
    {
      "cell_type": "markdown",
      "metadata": {
        "id": "nSHiyiS8zJzb"
      },
      "source": [
        "## Clasificador bayesiano ingenuo para distribución de Bernoulli\n",
        "Definimos una función para obtener la probabilidad de 0 o 1 dada una distribución de Bernoulli con parámetro $q$."
      ]
    },
    {
      "cell_type": "code",
      "execution_count": 16,
      "metadata": {
        "id": "hFjc0A4w4y8Z"
      },
      "outputs": [],
      "source": [
        "def bernoulli(x, q):\n",
        "  \"\"\"\n",
        "  Distribución de bernoulli\n",
        "  \"\"\"\n",
        "  return q**x * (1.0 - q)**(1.0 - x)"
      ]
    },
    {
      "cell_type": "markdown",
      "metadata": {
        "id": "-NjqbI7g40px"
      },
      "source": [
        "Definimos una clase con el clasificador bayesiano ingenuo para atributos binarios y estimación de parámetros por máxima verosimilitud."
      ]
    },
    {
      "cell_type": "code",
      "execution_count": 17,
      "metadata": {
        "colab": {
          "base_uri": "https://localhost:8080/"
        },
        "id": "NhBWGadkeCFJ",
        "outputId": "4b5c1dc3-3c65-48ba-836d-c9b5793cd245"
      },
      "outputs": [
        {
          "data": {
            "text/plain": [
              "array([[0.8, 0.3, 0.4],\n",
              "       [0.2, 0.7, 0.6]])"
            ]
          },
          "execution_count": 17,
          "metadata": {},
          "output_type": "execute_result"
        }
      ],
      "source": [
        "bernoulli(np.array([[0, 1, 1], [1,0,0]]), np.array([0.2, 0.3, 0.4]))"
      ]
    },
    {
      "cell_type": "code",
      "execution_count": 18,
      "metadata": {
        "colab": {
          "base_uri": "https://localhost:8080/"
        },
        "id": "l4GWsvvWzSwq",
        "outputId": "9cd32b3d-bb96-41f8-c4d6-e8ec46a499da"
      },
      "outputs": [
        {
          "name": "stdout",
          "output_type": "stream",
          "text": [
            "[1 0 0]\n",
            "[[0.0015588  0.00279273]\n",
            " [0.00031176 0.        ]\n",
            " [0.0031176  0.        ]]\n"
          ]
        }
      ],
      "source": [
        "class BernoulliNB:\n",
        "  def fit(self, X, y):\n",
        "    \"\"\"\n",
        "    Estima parámetros por máxima verosimilitud\n",
        "    \"\"\"\n",
        "    self.clases = np.unique(y)\n",
        "    self.n_clases = self.clases.size\n",
        "    self.n_atr = X.shape[-1]\n",
        "    n = X.shape[0]\n",
        "\n",
        "    self.qa = np.zeros((self.n_clases, self.n_atr))\n",
        "    self.qc = np.zeros((self.n_clases))\n",
        "    for i,c in enumerate(self.clases):\n",
        "      Xc = X[y == c]\n",
        "      nc = Xc.shape[0]\n",
        "\n",
        "      cuentas = np.count_nonzero(Xc, axis = 0)\n",
        "      self.qa[i, :] =  cuentas / nc\n",
        "      self.qc[i] = nc / n\n",
        "\n",
        "  def predict_proba(self, X):\n",
        "    \"\"\"\n",
        "    Calcula a posteriori (proporcional) de un conjunto de datos\n",
        "    \"\"\"\n",
        "    prop = np.zeros((X.shape[0], self.n_clases))\n",
        "    for i in range(self.n_clases):\n",
        "      prop[:, i] = np.prod(bernoulli(X, self.qa[i, :]), axis=1) * self.qc[i]\n",
        "    return prop\n",
        "\n",
        "  def predict(self, X):\n",
        "    \"\"\"\n",
        "    Predice clases de conjunto de datos\n",
        "    \"\"\"\n",
        "    return np.argmax(self.predict_proba(X), axis=1)\n",
        "\n",
        "bnb = BernoulliNB()\n",
        "bnb.fit(X_ent, y_ent)\n",
        "\n",
        "y_bnb = bnb.predict(X_nuevos)\n",
        "p_bnb = bnb.predict_proba(X_nuevos)\n",
        "\n",
        "print(y_bnb)\n",
        "print(p_bnb)"
      ]
    },
    {
      "cell_type": "code",
      "execution_count": 19,
      "metadata": {
        "colab": {
          "base_uri": "https://localhost:8080/"
        },
        "id": "VKDTCnA_2vCi",
        "outputId": "1d1697c1-7f74-4cbb-d58b-7a4b5a931b8a"
      },
      "outputs": [
        {
          "data": {
            "text/plain": [
              "(3, 8)"
            ]
          },
          "execution_count": 19,
          "metadata": {},
          "output_type": "execute_result"
        }
      ],
      "source": [
        "X_nuevos.shape"
      ]
    },
    {
      "cell_type": "code",
      "execution_count": 20,
      "metadata": {
        "colab": {
          "base_uri": "https://localhost:8080/"
        },
        "id": "JahwPYpZ0off",
        "outputId": "de29ccee-784e-4621-9f17-de67931d9220"
      },
      "outputs": [
        {
          "data": {
            "text/plain": [
              "(2, 8)"
            ]
          },
          "execution_count": 20,
          "metadata": {},
          "output_type": "execute_result"
        }
      ],
      "source": [
        "bnb.qa.shape"
      ]
    },
    {
      "cell_type": "markdown",
      "metadata": {
        "id": "k8NffFZQZUeb"
      },
      "source": [
        "El método `predict_proba` calcula la proporcional de la probabilidad a posteriori\n",
        "\n",
        "$$\n",
        "P(\\mathbf{x} \\vert y)\\cdot P(y) \\propto P(y \\vert \\mathbf{x})\n",
        "$$\n",
        "\n",
        "Para obtener la probabilidad a posteriori es necesario dividir este valor entre\n",
        "$$\n",
        "P(\\mathbf{x}) = \\sum_c P(\\mathbf{x}, y = c) = \\sum_c P(\\mathbf{x} \\vert y = c) P(y = c)\n",
        "$$"
      ]
    },
    {
      "cell_type": "code",
      "execution_count": 21,
      "metadata": {
        "colab": {
          "base_uri": "https://localhost:8080/"
        },
        "id": "TALAdkWrh4gf",
        "outputId": "f6af1448-a02a-4b9d-c808-99d690281e1b"
      },
      "outputs": [
        {
          "name": "stdout",
          "output_type": "stream",
          "text": [
            "Probabilidad a posteriori = [[0.35821874 0.64178126]\n",
            " [1.         0.        ]\n",
            " [1.         0.        ]]\n"
          ]
        }
      ],
      "source": [
        "proba_bnb = (p_bnb / p_bnb.sum(axis = 1)[:, np.newaxis])\n",
        "print(f'Probabilidad a posteriori = {proba_bnb}')"
      ]
    },
    {
      "cell_type": "markdown",
      "metadata": {
        "id": "sviQpYB6UC-Y"
      },
      "source": [
        "Cuando el número de atributos es muy grande, es conveniente usar escala logarítmica para calcular la proporcional de la probabilidad de cada clase dado un nuevo dato (método `predict_proba`)."
      ]
    },
    {
      "cell_type": "code",
      "execution_count": 22,
      "metadata": {
        "colab": {
          "base_uri": "https://localhost:8080/"
        },
        "id": "ckBmdQlnPzIr",
        "outputId": "37c03032-9670-41b0-aa2e-0e8529c96451"
      },
      "outputs": [
        {
          "name": "stdout",
          "output_type": "stream",
          "text": [
            "[1 0 0]\n",
            "[[ -6.46384036  -5.88073664]\n",
            " [ -8.07327827 -40.82577774]\n",
            " [ -5.77069318 -80.33516704]]\n",
            "[[1.55879786e-03 2.79272727e-03]\n",
            " [3.11759571e-04 1.86033007e-18]\n",
            " [3.11759571e-03 1.29086330e-35]]\n",
            "[[3.58218742e-01 6.41781258e-01]\n",
            " [1.00000000e+00 5.96719474e-15]\n",
            " [1.00000000e+00 4.14057312e-33]]\n"
          ]
        }
      ],
      "source": [
        "class BernoulliNBLog:\n",
        "  def fit(self, X, y):\n",
        "    \"\"\"\n",
        "    Estima parámetros por máxima verosimilitud\n",
        "    \"\"\"\n",
        "    self.clases = np.unique(y)\n",
        "    self.n_clases = self.clases.size\n",
        "    self.n_atr = X.shape[-1]\n",
        "    n = X.shape[0]\n",
        "\n",
        "    self.qa = np.zeros((self.n_clases, self.n_atr))\n",
        "    self.qc = np.zeros((self.n_clases))\n",
        "    for i,c in enumerate(self.clases):\n",
        "      Xc = X[y == c]\n",
        "      nc = Xc.shape[0]\n",
        "\n",
        "      cuentas = np.count_nonzero(Xc, axis = 0)\n",
        "      self.qa[i, :] = cuentas / nc\n",
        "      self.qc[i] = nc / n\n",
        "\n",
        "    # Para evitar logarítmos de zero en cálculo\n",
        "    # de a posteriori\n",
        "    self.qa[self.qa == 0] = np.nextafter(0, 1)\n",
        "    self.qa[self.qa == 1] = np.nextafter(1, 0)\n",
        "\n",
        "  def predict_proba(self, X):\n",
        "    \"\"\"\n",
        "    Calcula a posteriori (proporcional) de un conjunto de datos\n",
        "    \"\"\"\n",
        "    prop = np.zeros((X.shape[0], self.n_clases))\n",
        "    for i in range(self.n_clases):\n",
        "      a0log = (1 - X) @ np.log(1 - self.qa[i, :])\n",
        "      a1log = X @ np.log(self.qa[i, :])\n",
        "      prop[:, i] = a0log + a1log + np.log(self.qc[i])\n",
        "\n",
        "    return prop\n",
        "\n",
        "  def predict(self, X):\n",
        "    \"\"\"\n",
        "    Predice clase de conjunto de datos\n",
        "    \"\"\"\n",
        "    return np.argmax(self.predict_proba(X), axis=1)\n",
        "\n",
        "bnbl = BernoulliNBLog()\n",
        "bnbl.fit(X_ent, y_ent)\n",
        "\n",
        "y_bnbl = bnbl.predict(X_nuevos)\n",
        "p_bnbl = bnbl.predict_proba(X_nuevos)\n",
        "\n",
        "print(y_bnb)\n",
        "print(p_bnbl) # Proporcional de probabilidades logarítmicas\n",
        "print(np.exp(p_bnbl)) # Proporcional de probabilidades\n",
        "print((np.exp(p_bnbl) / np.exp(p_bnbl).sum(axis = 1)[:, np.newaxis])) # Probabilidades"
      ]
    },
    {
      "cell_type": "markdown",
      "metadata": {
        "id": "hoeKbKknUTaZ"
      },
      "source": [
        "Nota que no es necesario modificar la estimación de parámetros (método `fit`).\n",
        "\n",
        "Para estimar parámetros por máximo a posteriori, solo se necesita cambiar el método `fit` de la siguiente manera."
      ]
    },
    {
      "cell_type": "code",
      "execution_count": 23,
      "metadata": {
        "colab": {
          "base_uri": "https://localhost:8080/"
        },
        "id": "cYFprucnNf8o",
        "outputId": "630fd926-c87b-4642-e455-c32694657e11"
      },
      "outputs": [
        {
          "name": "stdout",
          "output_type": "stream",
          "text": [
            "[1 1 0]\n",
            "[[ -7.94438676  -7.94366196]\n",
            " [ -7.65670469  -6.89569341]\n",
            " [ -7.56139451 -10.15103891]]\n",
            "[[3.54647308e-04 3.54904448e-04]\n",
            " [4.72863077e-04 1.01213491e-03]\n",
            " [5.20149385e-04 3.90355061e-05]]\n",
            "[[0.4998188  0.5001812 ]\n",
            " [0.31842675 0.68157325]\n",
            " [0.93019213 0.06980787]]\n"
          ]
        }
      ],
      "source": [
        "class BernoulliNBLogMAP:\n",
        "  def fit(self, X, y, alfa=2):\n",
        "    \"\"\"\n",
        "    Estima parámetros por máximo a posteriori\n",
        "    \"\"\"\n",
        "    self.clases = np.unique(y)\n",
        "    self.n_clases = self.clases.size\n",
        "    self.n_atr = X.shape[-1]\n",
        "    n = X.shape[0]\n",
        "\n",
        "    self.qa = np.zeros((self.n_clases, self.n_atr))\n",
        "    self.qc = np.zeros((self.n_clases))\n",
        "    for i,c in enumerate(self.clases):\n",
        "      Xc = X[y == c]\n",
        "      nc = Xc.shape[0]\n",
        "\n",
        "      # Asignamos misma alfa para todas las categorías\n",
        "      self.qc[i] = (nc + alfa - 1) / (n + alfa * self.n_clases - self.n_clases)\n",
        "      cuentas = np.count_nonzero(Xc, axis = 0)\n",
        "      self.qa[i, :] = (cuentas + alfa - 1) / (nc + self.n_atr + alfa - 2)\n",
        "\n",
        "  def predict_proba(self, X):\n",
        "    \"\"\"\n",
        "    Calcula a posteriori (proporcional) de un conjunto de datos\n",
        "    \"\"\"\n",
        "    prop = np.zeros((X.shape[0], self.n_clases))\n",
        "    for i in range(self.n_clases):\n",
        "      a0log = (1 - X) @ np.log(1 - self.qa[i, :])\n",
        "      a1log = X @ np.log(self.qa[i, :])\n",
        "      prop[:, i] = a0log + a1log + np.log(self.qc[i])\n",
        "\n",
        "    return prop\n",
        "\n",
        "  def predict(self, x):\n",
        "    \"\"\"\n",
        "    Predice clases de un conjunto de datos\n",
        "    \"\"\"\n",
        "    return np.argmax(self.predict_proba(x), axis=1)\n",
        "\n",
        "bnblm = BernoulliNBLogMAP()\n",
        "bnblm.fit(X_ent, y_ent)\n",
        "\n",
        "y_bnblm = bnblm.predict(X_nuevos)\n",
        "p_bnblm = bnblm.predict_proba(X_nuevos)\n",
        "\n",
        "print(y_bnblm)\n",
        "print(p_bnblm) # Proporcional de probabilidades logarítmicas\n",
        "print(np.exp(p_bnblm)) # Proporcional de probabilidades\n",
        "print((np.exp(p_bnblm) / np.exp(p_bnblm).sum(axis=1)[:, np.newaxis])) # Probabilidades"
      ]
    },
    {
      "cell_type": "markdown",
      "metadata": {
        "id": "OkxPZNUvF4K_"
      },
      "source": [
        "## Clasificación de documentos por tema\n",
        "Probaremos nuestro clasificador bayesiano ingenuo en la clasificación de documentos por tema usando el conjunto de datos _20 newsgroups_."
      ]
    },
    {
      "cell_type": "code",
      "execution_count": 24,
      "metadata": {
        "id": "k_xhsQiEE3rq"
      },
      "outputs": [],
      "source": [
        "ng_ent = fetch_20newsgroups(subset='train',\n",
        "                            shuffle=False,\n",
        "                            random_state=42)\n",
        "\n",
        "ng_prueba = fetch_20newsgroups(subset='test',\n",
        "                               shuffle=False,\n",
        "                               random_state=42)"
      ]
    },
    {
      "cell_type": "markdown",
      "metadata": {
        "id": "xQRcXu-BUGeB"
      },
      "source": [
        "Dividimos el conjunto de entrenamiento en subconjuntos de entrenamiento y validación."
      ]
    },
    {
      "cell_type": "code",
      "execution_count": 25,
      "metadata": {
        "id": "U-76MEIdUMQV"
      },
      "outputs": [],
      "source": [
        "docs_ent, docs_val, y_ent, y_val = train_test_split(ng_ent.data,\n",
        "                                                    ng_ent.target,\n",
        "                                                    shuffle=True,\n",
        "                                                    test_size = 0.2,\n",
        "                                                    stratify = ng_ent.target,\n",
        "                                                    random_state = 42)\n",
        "y_prueba = ng_prueba.target"
      ]
    },
    {
      "cell_type": "markdown",
      "metadata": {
        "id": "jnzAQB4wWbPg"
      },
      "source": [
        "Veamos cómo están distribuidas las clases en el conjunto de entrenamiento"
      ]
    },
    {
      "cell_type": "code",
      "execution_count": 26,
      "metadata": {
        "colab": {
          "base_uri": "https://localhost:8080/",
          "height": 488
        },
        "id": "gyuWjJv6O894",
        "outputId": "3a1cd104-f18c-4889-a6eb-5e591575ef46"
      },
      "outputs": [
        {
          "data": {
            "image/png": "[encoded data removed]",
            "text/plain": [
              "<Figure size 1500x500 with 3 Axes>"
            ]
          },
          "metadata": {},
          "output_type": "display_data"
        }
      ],
      "source": [
        "f,axs = plt.subplots(1,3, figsize=(15,5), sharey=True)\n",
        "\n",
        "axs[0].hist(y_ent, bins=[i for i in range(21)])\n",
        "axs[0].set_xticks(np.unique(y_ent))\n",
        "axs[0].set_xlabel(u'Categoría')\n",
        "axs[0].set_ylabel('Frecuencia')\n",
        "axs[0].set_title(u'Entrenamiento')\n",
        "\n",
        "axs[1].hist(y_val, bins=[i for i in range(21)])\n",
        "axs[1].set_xticks(np.unique(y_val))\n",
        "axs[1].set_xlabel(u'Categoría')\n",
        "axs[1].set_title(u'Validación')\n",
        "\n",
        "axs[2].hist(y_prueba, bins=[i for i in range(21)])\n",
        "axs[2].set_xticks(np.unique(y_prueba))\n",
        "axs[2].set_xlabel(u'Categoría')\n",
        "axs[2].set_title(u'Prueba')\n",
        "\n",
        "plt.subplots_adjust(wspace=0, hspace=0)\n",
        "plt.show()"
      ]
    },
    {
      "cell_type": "markdown",
      "metadata": {
        "id": "BzwXwJkAdO1m"
      },
      "source": [
        "Definimos una función para calcular la exactitud:\n",
        "$$\n",
        "\\text{Exactitud} = \\frac{\\text{Aciertos}}{\\text{Total}}\n",
        "$$"
      ]
    },
    {
      "cell_type": "code",
      "execution_count": 27,
      "metadata": {
        "id": "UU086Z9Sk9dL"
      },
      "outputs": [],
      "source": [
        "def exactitud(y, y_pred):\n",
        "  return (pred == y_val).mean()"
      ]
    },
    {
      "cell_type": "markdown",
      "metadata": {
        "id": "-YWzry1PWCs4"
      },
      "source": [
        "En `scikit-learn` dentro del submódulo `naive_bayes` están definidos clasificadores bayesianos ingenuos con distintas distribuciones para los atributos. Compararemos nuestro clasificador con el `BernoulliNB` de `scikit-learn` para distintos tamaños de vocabulario."
      ]
    },
    {
      "cell_type": "code",
      "execution_count": 28,
      "metadata": {
        "colab": {
          "base_uri": "https://localhost:8080/"
        },
        "id": "rgGhGHnoGmPf",
        "outputId": "46b86d7a-6eae-49ea-da4b-a4af9eb76767"
      },
      "outputs": [
        {
          "name": "stdout",
          "output_type": "stream",
          "text": [
            "Exactitud = 0.7048\n",
            "Exactitud = 0.7552\n",
            "Exactitud = 0.7826\n",
            "Exactitud = 0.7981\n",
            "Exactitud = 0.8069\n",
            "Exactitud = 0.8140\n",
            "Exactitud = 0.8206\n",
            "Exactitud = 0.8237\n",
            "Exactitud = 0.8277\n",
            "Exactitud = 0.8312\n"
          ]
        }
      ],
      "source": [
        "tam = np.arange(2000, 22000, 2000)\n",
        "exact_tam = []\n",
        "for t in tam:\n",
        "  vec = CountVectorizer(max_features=t,\n",
        "                        stop_words='english',\n",
        "                        binary=True)\n",
        "\n",
        "  X_ent = vec.fit_transform(docs_ent)\n",
        "  X_val = vec.transform(docs_val)\n",
        "\n",
        "  cb = BernoulliNBLogMAP()\n",
        "  cb.fit(X_ent.toarray(), y_ent)\n",
        "  pred = cb.predict(X_val.toarray())\n",
        "  exact_tam.append(exactitud(y_val, pred))\n",
        "\n",
        "  print(f'Exactitud = {exact_tam[-1]:.4f}')"
      ]
    },
    {
      "cell_type": "markdown",
      "metadata": {
        "id": "rF55fjLLDoE9"
      },
      "source": [
        "Graficamos el rendimiento con respecto al tamaño del vocabulario."
      ]
    },
    {
      "cell_type": "code",
      "execution_count": 29,
      "metadata": {
        "colab": {
          "base_uri": "https://localhost:8080/",
          "height": 449
        },
        "id": "nNQ4Drf-i0TY",
        "outputId": "217610f0-e37e-409b-cb80-f76b0af30b4c"
      },
      "outputs": [
        {
          "data": {
            "image/png": "[encoded data removed]",
            "text/plain": [
              "<Figure size 640x480 with 1 Axes>"
            ]
          },
          "metadata": {},
          "output_type": "display_data"
        }
      ],
      "source": [
        "plt.plot(tam, exact_tam)\n",
        "plt.xlabel(u'Tamaño de vocabulario')\n",
        "plt.ylabel(u'Exactitud')\n",
        "plt.show()"
      ]
    }
  ],
  "metadata": {
    "colab": {
      "include_colab_link": true,
      "provenance": []
    },
    "kernelspec": {
      "display_name": "Python 3",
      "language": "python",
      "name": "python3"
    },
    "language_info": {
      "codemirror_mode": {
        "name": "ipython",
        "version": 3
      },
      "file_extension": ".py",
      "mimetype": "text/x-python",
      "name": "python",
      "nbconvert_exporter": "python",
      "pygments_lexer": "ipython3",
      "version": "3.9.6"
    }
  },
  "nbformat": 4,
  "nbformat_minor": 0
}
