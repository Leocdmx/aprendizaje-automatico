{
  "nbformat": 4,
  "nbformat_minor": 0,
  "metadata": {
    "kernelspec": {
      "display_name": "Python 3",
      "language": "python",
      "name": "python3"
    },
    "language_info": {
      "codemirror_mode": {
        "name": "ipython",
        "version": 3
      },
      "file_extension": ".py",
      "mimetype": "text/x-python",
      "name": "python",
      "nbconvert_exporter": "python",
      "pygments_lexer": "ipython3",
      "version": "3.8.5"
    },
    "colab": {
      "provenance": [],
      "include_colab_link": true
    }
  },
  "cells": [
    {
      "cell_type": "markdown",
      "metadata": {
        "id": "view-in-github",
        "colab_type": "text"
      },
      "source": [
        "<a href=\"https://colab.research.google.com/github/gibranfp/CursoAprendizajeAutomatizado/blob/2025-2/notebooks/1a_clasificador_bayesiano_bernoulli.ipynb\" target=\"_parent\"><img src=\"https://colab.research.google.com/assets/colab-badge.svg\" alt=\"Open In Colab\"/></a>"
      ]
    },
    {
      "cell_type": "markdown",
      "metadata": {
        "id": "BUT7nnAUzJzT"
      },
      "source": [
        "# Clasificador bayesiano ingenuo de Bernoulli\n",
        "En esta libreta programaremos un clasificador bayesiano ingenuo en el cual se presupone que la distribución de los atributos dada la clase es una Bernoulli y hay dos posibles clases."
      ]
    },
    {
      "cell_type": "code",
      "metadata": {
        "id": "9WTkCgB7zJzW"
      },
      "source": [
        "import numpy as np\n",
        "import pandas as pd\n",
        "import matplotlib.pyplot as plt\n",
        "\n",
        "from sklearn.model_selection import train_test_split\n",
        "from sklearn.datasets import fetch_20newsgroups\n",
        "from sklearn.feature_extraction.text import CountVectorizer\n",
        "\n",
        "np.random.seed(42)"
      ],
      "execution_count": 1,
      "outputs": []
    },
    {
      "cell_type": "markdown",
      "metadata": {
        "id": "f-kw792rzJzX"
      },
      "source": [
        "## Carga de datos"
      ]
    },
    {
      "cell_type": "markdown",
      "metadata": {
        "id": "GsggTrNEzJzX"
      },
      "source": [
        "El conjunto de entrenamiento consiste de 11 documentos que pertenecen a las clases de deportes (0) o informática (1). Cada documento es un vector de 8 dimensiones donde cada dimensión representa la frecuencia de las palabras en nuestro vocabulario de interés:\n",
        "\n",
        "$$\n",
        "V = \\begin{vmatrix}\n",
        "p_{1} = \\textrm{gol}\\\\\n",
        "p_{2} = \\textrm{maestro}\\\\\n",
        "p_{3} = \\textrm{velocidad}\\\\\n",
        "p_{4} = \\textrm{defensa}\\\\\n",
        "p_{5} = \\textrm{rendimiento}\\\\\n",
        "p_{6} = \\textrm{campo}\\\\\n",
        "p_{7} = \\textrm{movimiento}\\\\\n",
        "p_{8} = \\textrm{ataque}\n",
        "\\end{vmatrix}  \n",
        "$$\n",
        "\n",
        " Lectura con Pandas:"
      ]
    },
    {
      "cell_type": "code",
      "metadata": {
        "id": "yOEwTCMOzJzY",
        "colab": {
          "base_uri": "https://localhost:8080/",
          "height": 394
        },
        "outputId": "0b85d9db-c91b-46b2-81b7-04ac640df207"
      },
      "source": [
        "df = pd.read_csv('https://raw.githubusercontent.com/gibranfp/CursoAprendizajeAutomatizado/master/data/dep_inf.csv')\n",
        "df"
      ],
      "execution_count": 2,
      "outputs": [
        {
          "output_type": "execute_result",
          "data": {
            "text/plain": [
              "    p1  p2  p3  p4  p5  p6  p7  p8  c \n",
              "0    1   0   1   0   1   1   0   1   0\n",
              "1    1   0   1   0   0   1   0   0   0\n",
              "2    0   0   1   0   1   1   0   1   0\n",
              "3    0   0   0   1   1   0   1   1   0\n",
              "4    1   1   0   0   0   1   0   1   0\n",
              "5    0   0   1   1   1   1   0   0   0\n",
              "6    0   1   0   1   0   0   1   0   1\n",
              "7    1   0   0   1   1   0   1   1   1\n",
              "8    0   1   0   1   0   1   1   0   1\n",
              "9    0   0   0   1   0   0   1   1   1\n",
              "10   0   1   1   1   0   0   1   1   1"
            ],
            "text/html": [
              "\n",
              "  <div id=\"df-588e537e-f815-4640-9cfc-b052266d18c3\" class=\"colab-df-container\">\n",
              "    <div>\n",
              "<style scoped>\n",
              "    .dataframe tbody tr th:only-of-type {\n",
              "        vertical-align: middle;\n",
              "    }\n",
              "\n",
              "    .dataframe tbody tr th {\n",
              "        vertical-align: top;\n",
              "    }\n",
              "\n",
              "    .dataframe thead th {\n",
              "        text-align: right;\n",
              "    }\n",
              "</style>\n",
              "<table border=\"1\" class=\"dataframe\">\n",
              "  <thead>\n",
              "    <tr style=\"text-align: right;\">\n",
              "      <th></th>\n",
              "      <th>p1</th>\n",
              "      <th>p2</th>\n",
              "      <th>p3</th>\n",
              "      <th>p4</th>\n",
              "      <th>p5</th>\n",
              "      <th>p6</th>\n",
              "      <th>p7</th>\n",
              "      <th>p8</th>\n",
              "      <th>c</th>\n",
              "    </tr>\n",
              "  </thead>\n",
              "  <tbody>\n",
              "    <tr>\n",
              "      <th>0</th>\n",
              "      <td>1</td>\n",
              "      <td>0</td>\n",
              "      <td>1</td>\n",
              "      <td>0</td>\n",
              "      <td>1</td>\n",
              "      <td>1</td>\n",
              "      <td>0</td>\n",
              "      <td>1</td>\n",
              "      <td>0</td>\n",
              "    </tr>\n",
              "    <tr>\n",
              "      <th>1</th>\n",
              "      <td>1</td>\n",
              "      <td>0</td>\n",
              "      <td>1</td>\n",
              "      <td>0</td>\n",
              "      <td>0</td>\n",
              "      <td>1</td>\n",
              "      <td>0</td>\n",
              "      <td>0</td>\n",
              "      <td>0</td>\n",
              "    </tr>\n",
              "    <tr>\n",
              "      <th>2</th>\n",
              "      <td>0</td>\n",
              "      <td>0</td>\n",
              "      <td>1</td>\n",
              "      <td>0</td>\n",
              "      <td>1</td>\n",
              "      <td>1</td>\n",
              "      <td>0</td>\n",
              "      <td>1</td>\n",
              "      <td>0</td>\n",
              "    </tr>\n",
              "    <tr>\n",
              "      <th>3</th>\n",
              "      <td>0</td>\n",
              "      <td>0</td>\n",
              "      <td>0</td>\n",
              "      <td>1</td>\n",
              "      <td>1</td>\n",
              "      <td>0</td>\n",
              "      <td>1</td>\n",
              "      <td>1</td>\n",
              "      <td>0</td>\n",
              "    </tr>\n",
              "    <tr>\n",
              "      <th>4</th>\n",
              "      <td>1</td>\n",
              "      <td>1</td>\n",
              "      <td>0</td>\n",
              "      <td>0</td>\n",
              "      <td>0</td>\n",
              "      <td>1</td>\n",
              "      <td>0</td>\n",
              "      <td>1</td>\n",
              "      <td>0</td>\n",
              "    </tr>\n",
              "    <tr>\n",
              "      <th>5</th>\n",
              "      <td>0</td>\n",
              "      <td>0</td>\n",
              "      <td>1</td>\n",
              "      <td>1</td>\n",
              "      <td>1</td>\n",
              "      <td>1</td>\n",
              "      <td>0</td>\n",
              "      <td>0</td>\n",
              "      <td>0</td>\n",
              "    </tr>\n",
              "    <tr>\n",
              "      <th>6</th>\n",
              "      <td>0</td>\n",
              "      <td>1</td>\n",
              "      <td>0</td>\n",
              "      <td>1</td>\n",
              "      <td>0</td>\n",
              "      <td>0</td>\n",
              "      <td>1</td>\n",
              "      <td>0</td>\n",
              "      <td>1</td>\n",
              "    </tr>\n",
              "    <tr>\n",
              "      <th>7</th>\n",
              "      <td>1</td>\n",
              "      <td>0</td>\n",
              "      <td>0</td>\n",
              "      <td>1</td>\n",
              "      <td>1</td>\n",
              "      <td>0</td>\n",
              "      <td>1</td>\n",
              "      <td>1</td>\n",
              "      <td>1</td>\n",
              "    </tr>\n",
              "    <tr>\n",
              "      <th>8</th>\n",
              "      <td>0</td>\n",
              "      <td>1</td>\n",
              "      <td>0</td>\n",
              "      <td>1</td>\n",
              "      <td>0</td>\n",
              "      <td>1</td>\n",
              "      <td>1</td>\n",
              "      <td>0</td>\n",
              "      <td>1</td>\n",
              "    </tr>\n",
              "    <tr>\n",
              "      <th>9</th>\n",
              "      <td>0</td>\n",
              "      <td>0</td>\n",
              "      <td>0</td>\n",
              "      <td>1</td>\n",
              "      <td>0</td>\n",
              "      <td>0</td>\n",
              "      <td>1</td>\n",
              "      <td>1</td>\n",
              "      <td>1</td>\n",
              "    </tr>\n",
              "    <tr>\n",
              "      <th>10</th>\n",
              "      <td>0</td>\n",
              "      <td>1</td>\n",
              "      <td>1</td>\n",
              "      <td>1</td>\n",
              "      <td>0</td>\n",
              "      <td>0</td>\n",
              "      <td>1</td>\n",
              "      <td>1</td>\n",
              "      <td>1</td>\n",
              "    </tr>\n",
              "  </tbody>\n",
              "</table>\n",
              "</div>\n",
              "    <div class=\"colab-df-buttons\">\n",
              "\n",
              "  <div class=\"colab-df-container\">\n",
              "    <button class=\"colab-df-convert\" onclick=\"convertToInteractive('df-588e537e-f815-4640-9cfc-b052266d18c3')\"\n",
              "            title=\"Convert this dataframe to an interactive table.\"\n",
              "            style=\"display:none;\">\n",
              "\n",
              "  <svg xmlns=\"http://www.w3.org/2000/svg\" height=\"24px\" viewBox=\"0 -960 960 960\">\n",
              "    <path d=\"M120-120v-720h720v720H120Zm60-500h600v-160H180v160Zm220 220h160v-160H400v160Zm0 220h160v-160H400v160ZM180-400h160v-160H180v160Zm440 0h160v-160H620v160ZM180-180h160v-160H180v160Zm440 0h160v-160H620v160Z\"/>\n",
              "  </svg>\n",
              "    </button>\n",
              "\n",
              "  <style>\n",
              "    .colab-df-container {\n",
              "      display:flex;\n",
              "      gap: 12px;\n",
              "    }\n",
              "\n",
              "    .colab-df-convert {\n",
              "      background-color: #E8F0FE;\n",
              "      border: none;\n",
              "      border-radius: 50%;\n",
              "      cursor: pointer;\n",
              "      display: none;\n",
              "      fill: #1967D2;\n",
              "      height: 32px;\n",
              "      padding: 0 0 0 0;\n",
              "      width: 32px;\n",
              "    }\n",
              "\n",
              "    .colab-df-convert:hover {\n",
              "      background-color: #E2EBFA;\n",
              "      box-shadow: 0px 1px 2px rgba(60, 64, 67, 0.3), 0px 1px 3px 1px rgba(60, 64, 67, 0.15);\n",
              "      fill: #174EA6;\n",
              "    }\n",
              "\n",
              "    .colab-df-buttons div {\n",
              "      margin-bottom: 4px;\n",
              "    }\n",
              "\n",
              "    [theme=dark] .colab-df-convert {\n",
              "      background-color: #3B4455;\n",
              "      fill: #D2E3FC;\n",
              "    }\n",
              "\n",
              "    [theme=dark] .colab-df-convert:hover {\n",
              "      background-color: #434B5C;\n",
              "      box-shadow: 0px 1px 3px 1px rgba(0, 0, 0, 0.15);\n",
              "      filter: drop-shadow(0px 1px 2px rgba(0, 0, 0, 0.3));\n",
              "      fill: #FFFFFF;\n",
              "    }\n",
              "  </style>\n",
              "\n",
              "    <script>\n",
              "      const buttonEl =\n",
              "        document.querySelector('#df-588e537e-f815-4640-9cfc-b052266d18c3 button.colab-df-convert');\n",
              "      buttonEl.style.display =\n",
              "        google.colab.kernel.accessAllowed ? 'block' : 'none';\n",
              "\n",
              "      async function convertToInteractive(key) {\n",
              "        const element = document.querySelector('#df-588e537e-f815-4640-9cfc-b052266d18c3');\n",
              "        const dataTable =\n",
              "          await google.colab.kernel.invokeFunction('convertToInteractive',\n",
              "                                                    [key], {});\n",
              "        if (!dataTable) return;\n",
              "\n",
              "        const docLinkHtml = 'Like what you see? Visit the ' +\n",
              "          '<a target=\"_blank\" href=https://colab.research.google.com/notebooks/data_table.ipynb>data table notebook</a>'\n",
              "          + ' to learn more about interactive tables.';\n",
              "        element.innerHTML = '';\n",
              "        dataTable['output_type'] = 'display_data';\n",
              "        await google.colab.output.renderOutput(dataTable, element);\n",
              "        const docLink = document.createElement('div');\n",
              "        docLink.innerHTML = docLinkHtml;\n",
              "        element.appendChild(docLink);\n",
              "      }\n",
              "    </script>\n",
              "  </div>\n",
              "\n",
              "\n",
              "<div id=\"df-3e2ef6f1-8677-4498-8b1a-1f446bc35cc5\">\n",
              "  <button class=\"colab-df-quickchart\" onclick=\"quickchart('df-3e2ef6f1-8677-4498-8b1a-1f446bc35cc5')\"\n",
              "            title=\"Suggest charts\"\n",
              "            style=\"display:none;\">\n",
              "\n",
              "<svg xmlns=\"http://www.w3.org/2000/svg\" height=\"24px\"viewBox=\"0 0 24 24\"\n",
              "     width=\"24px\">\n",
              "    <g>\n",
              "        <path d=\"M19 3H5c-1.1 0-2 .9-2 2v14c0 1.1.9 2 2 2h14c1.1 0 2-.9 2-2V5c0-1.1-.9-2-2-2zM9 17H7v-7h2v7zm4 0h-2V7h2v10zm4 0h-2v-4h2v4z\"/>\n",
              "    </g>\n",
              "</svg>\n",
              "  </button>\n",
              "\n",
              "<style>\n",
              "  .colab-df-quickchart {\n",
              "      --bg-color: #E8F0FE;\n",
              "      --fill-color: #1967D2;\n",
              "      --hover-bg-color: #E2EBFA;\n",
              "      --hover-fill-color: #174EA6;\n",
              "      --disabled-fill-color: #AAA;\n",
              "      --disabled-bg-color: #DDD;\n",
              "  }\n",
              "\n",
              "  [theme=dark] .colab-df-quickchart {\n",
              "      --bg-color: #3B4455;\n",
              "      --fill-color: #D2E3FC;\n",
              "      --hover-bg-color: #434B5C;\n",
              "      --hover-fill-color: #FFFFFF;\n",
              "      --disabled-bg-color: #3B4455;\n",
              "      --disabled-fill-color: #666;\n",
              "  }\n",
              "\n",
              "  .colab-df-quickchart {\n",
              "    background-color: var(--bg-color);\n",
              "    border: none;\n",
              "    border-radius: 50%;\n",
              "    cursor: pointer;\n",
              "    display: none;\n",
              "    fill: var(--fill-color);\n",
              "    height: 32px;\n",
              "    padding: 0;\n",
              "    width: 32px;\n",
              "  }\n",
              "\n",
              "  .colab-df-quickchart:hover {\n",
              "    background-color: var(--hover-bg-color);\n",
              "    box-shadow: 0 1px 2px rgba(60, 64, 67, 0.3), 0 1px 3px 1px rgba(60, 64, 67, 0.15);\n",
              "    fill: var(--button-hover-fill-color);\n",
              "  }\n",
              "\n",
              "  .colab-df-quickchart-complete:disabled,\n",
              "  .colab-df-quickchart-complete:disabled:hover {\n",
              "    background-color: var(--disabled-bg-color);\n",
              "    fill: var(--disabled-fill-color);\n",
              "    box-shadow: none;\n",
              "  }\n",
              "\n",
              "  .colab-df-spinner {\n",
              "    border: 2px solid var(--fill-color);\n",
              "    border-color: transparent;\n",
              "    border-bottom-color: var(--fill-color);\n",
              "    animation:\n",
              "      spin 1s steps(1) infinite;\n",
              "  }\n",
              "\n",
              "  @keyframes spin {\n",
              "    0% {\n",
              "      border-color: transparent;\n",
              "      border-bottom-color: var(--fill-color);\n",
              "      border-left-color: var(--fill-color);\n",
              "    }\n",
              "    20% {\n",
              "      border-color: transparent;\n",
              "      border-left-color: var(--fill-color);\n",
              "      border-top-color: var(--fill-color);\n",
              "    }\n",
              "    30% {\n",
              "      border-color: transparent;\n",
              "      border-left-color: var(--fill-color);\n",
              "      border-top-color: var(--fill-color);\n",
              "      border-right-color: var(--fill-color);\n",
              "    }\n",
              "    40% {\n",
              "      border-color: transparent;\n",
              "      border-right-color: var(--fill-color);\n",
              "      border-top-color: var(--fill-color);\n",
              "    }\n",
              "    60% {\n",
              "      border-color: transparent;\n",
              "      border-right-color: var(--fill-color);\n",
              "    }\n",
              "    80% {\n",
              "      border-color: transparent;\n",
              "      border-right-color: var(--fill-color);\n",
              "      border-bottom-color: var(--fill-color);\n",
              "    }\n",
              "    90% {\n",
              "      border-color: transparent;\n",
              "      border-bottom-color: var(--fill-color);\n",
              "    }\n",
              "  }\n",
              "</style>\n",
              "\n",
              "  <script>\n",
              "    async function quickchart(key) {\n",
              "      const quickchartButtonEl =\n",
              "        document.querySelector('#' + key + ' button');\n",
              "      quickchartButtonEl.disabled = true;  // To prevent multiple clicks.\n",
              "      quickchartButtonEl.classList.add('colab-df-spinner');\n",
              "      try {\n",
              "        const charts = await google.colab.kernel.invokeFunction(\n",
              "            'suggestCharts', [key], {});\n",
              "      } catch (error) {\n",
              "        console.error('Error during call to suggestCharts:', error);\n",
              "      }\n",
              "      quickchartButtonEl.classList.remove('colab-df-spinner');\n",
              "      quickchartButtonEl.classList.add('colab-df-quickchart-complete');\n",
              "    }\n",
              "    (() => {\n",
              "      let quickchartButtonEl =\n",
              "        document.querySelector('#df-3e2ef6f1-8677-4498-8b1a-1f446bc35cc5 button');\n",
              "      quickchartButtonEl.style.display =\n",
              "        google.colab.kernel.accessAllowed ? 'block' : 'none';\n",
              "    })();\n",
              "  </script>\n",
              "</div>\n",
              "\n",
              "  <div id=\"id_cd2f07b1-8a93-40d2-8562-faa3df334d3a\">\n",
              "    <style>\n",
              "      .colab-df-generate {\n",
              "        background-color: #E8F0FE;\n",
              "        border: none;\n",
              "        border-radius: 50%;\n",
              "        cursor: pointer;\n",
              "        display: none;\n",
              "        fill: #1967D2;\n",
              "        height: 32px;\n",
              "        padding: 0 0 0 0;\n",
              "        width: 32px;\n",
              "      }\n",
              "\n",
              "      .colab-df-generate:hover {\n",
              "        background-color: #E2EBFA;\n",
              "        box-shadow: 0px 1px 2px rgba(60, 64, 67, 0.3), 0px 1px 3px 1px rgba(60, 64, 67, 0.15);\n",
              "        fill: #174EA6;\n",
              "      }\n",
              "\n",
              "      [theme=dark] .colab-df-generate {\n",
              "        background-color: #3B4455;\n",
              "        fill: #D2E3FC;\n",
              "      }\n",
              "\n",
              "      [theme=dark] .colab-df-generate:hover {\n",
              "        background-color: #434B5C;\n",
              "        box-shadow: 0px 1px 3px 1px rgba(0, 0, 0, 0.15);\n",
              "        filter: drop-shadow(0px 1px 2px rgba(0, 0, 0, 0.3));\n",
              "        fill: #FFFFFF;\n",
              "      }\n",
              "    </style>\n",
              "    <button class=\"colab-df-generate\" onclick=\"generateWithVariable('df')\"\n",
              "            title=\"Generate code using this dataframe.\"\n",
              "            style=\"display:none;\">\n",
              "\n",
              "  <svg xmlns=\"http://www.w3.org/2000/svg\" height=\"24px\"viewBox=\"0 0 24 24\"\n",
              "       width=\"24px\">\n",
              "    <path d=\"M7,19H8.4L18.45,9,17,7.55,7,17.6ZM5,21V16.75L18.45,3.32a2,2,0,0,1,2.83,0l1.4,1.43a1.91,1.91,0,0,1,.58,1.4,1.91,1.91,0,0,1-.58,1.4L9.25,21ZM18.45,9,17,7.55Zm-12,3A5.31,5.31,0,0,0,4.9,8.1,5.31,5.31,0,0,0,1,6.5,5.31,5.31,0,0,0,4.9,4.9,5.31,5.31,0,0,0,6.5,1,5.31,5.31,0,0,0,8.1,4.9,5.31,5.31,0,0,0,12,6.5,5.46,5.46,0,0,0,6.5,12Z\"/>\n",
              "  </svg>\n",
              "    </button>\n",
              "    <script>\n",
              "      (() => {\n",
              "      const buttonEl =\n",
              "        document.querySelector('#id_cd2f07b1-8a93-40d2-8562-faa3df334d3a button.colab-df-generate');\n",
              "      buttonEl.style.display =\n",
              "        google.colab.kernel.accessAllowed ? 'block' : 'none';\n",
              "\n",
              "      buttonEl.onclick = () => {\n",
              "        google.colab.notebook.generateWithVariable('df');\n",
              "      }\n",
              "      })();\n",
              "    </script>\n",
              "  </div>\n",
              "\n",
              "    </div>\n",
              "  </div>\n"
            ],
            "application/vnd.google.colaboratory.intrinsic+json": {
              "type": "dataframe",
              "variable_name": "df",
              "summary": "{\n  \"name\": \"df\",\n  \"rows\": 11,\n  \"fields\": [\n    {\n      \"column\": \"p1\",\n      \"properties\": {\n        \"dtype\": \"number\",\n        \"std\": 0,\n        \"min\": 0,\n        \"max\": 1,\n        \"num_unique_values\": 2,\n        \"samples\": [\n          0,\n          1\n        ],\n        \"semantic_type\": \"\",\n        \"description\": \"\"\n      }\n    },\n    {\n      \"column\": \"p2\",\n      \"properties\": {\n        \"dtype\": \"number\",\n        \"std\": 0,\n        \"min\": 0,\n        \"max\": 1,\n        \"num_unique_values\": 2,\n        \"samples\": [\n          1,\n          0\n        ],\n        \"semantic_type\": \"\",\n        \"description\": \"\"\n      }\n    },\n    {\n      \"column\": \"p3\",\n      \"properties\": {\n        \"dtype\": \"number\",\n        \"std\": 0,\n        \"min\": 0,\n        \"max\": 1,\n        \"num_unique_values\": 2,\n        \"samples\": [\n          0,\n          1\n        ],\n        \"semantic_type\": \"\",\n        \"description\": \"\"\n      }\n    },\n    {\n      \"column\": \"p4\",\n      \"properties\": {\n        \"dtype\": \"number\",\n        \"std\": 0,\n        \"min\": 0,\n        \"max\": 1,\n        \"num_unique_values\": 2,\n        \"samples\": [\n          1,\n          0\n        ],\n        \"semantic_type\": \"\",\n        \"description\": \"\"\n      }\n    },\n    {\n      \"column\": \"p5\",\n      \"properties\": {\n        \"dtype\": \"number\",\n        \"std\": 0,\n        \"min\": 0,\n        \"max\": 1,\n        \"num_unique_values\": 2,\n        \"samples\": [\n          0,\n          1\n        ],\n        \"semantic_type\": \"\",\n        \"description\": \"\"\n      }\n    },\n    {\n      \"column\": \"p6\",\n      \"properties\": {\n        \"dtype\": \"number\",\n        \"std\": 0,\n        \"min\": 0,\n        \"max\": 1,\n        \"num_unique_values\": 2,\n        \"samples\": [\n          0,\n          1\n        ],\n        \"semantic_type\": \"\",\n        \"description\": \"\"\n      }\n    },\n    {\n      \"column\": \"p7\",\n      \"properties\": {\n        \"dtype\": \"number\",\n        \"std\": 0,\n        \"min\": 0,\n        \"max\": 1,\n        \"num_unique_values\": 2,\n        \"samples\": [\n          1,\n          0\n        ],\n        \"semantic_type\": \"\",\n        \"description\": \"\"\n      }\n    },\n    {\n      \"column\": \"p8\",\n      \"properties\": {\n        \"dtype\": \"number\",\n        \"std\": 0,\n        \"min\": 0,\n        \"max\": 1,\n        \"num_unique_values\": 2,\n        \"samples\": [\n          0,\n          1\n        ],\n        \"semantic_type\": \"\",\n        \"description\": \"\"\n      }\n    },\n    {\n      \"column\": \"c \",\n      \"properties\": {\n        \"dtype\": \"number\",\n        \"std\": 0,\n        \"min\": 0,\n        \"max\": 1,\n        \"num_unique_values\": 2,\n        \"samples\": [\n          1,\n          0\n        ],\n        \"semantic_type\": \"\",\n        \"description\": \"\"\n      }\n    }\n  ]\n}"
            }
          },
          "metadata": {},
          "execution_count": 2
        }
      ]
    },
    {
      "cell_type": "markdown",
      "metadata": {
        "id": "g7JU_Dl8zJzZ"
      },
      "source": [
        "Conversion a numpy:"
      ]
    },
    {
      "cell_type": "code",
      "metadata": {
        "id": "x65XXG8-zJzZ"
      },
      "source": [
        "data = df.to_numpy()\n",
        "\n",
        "X_ent = data[:, :-1]\n",
        "y_ent = data[:, -1]\n",
        "\n",
        "X_nuevos = np.array([[0, 0, 0 , 1, 1, 1, 1, 1],\n",
        "                     [0, 1, 0, 1, 1, 0, 0, 1],\n",
        "                     [1, 1, 1, 0, 0, 1, 0, 1]])"
      ],
      "execution_count": 3,
      "outputs": []
    },
    {
      "cell_type": "markdown",
      "metadata": {
        "id": "nSHiyiS8zJzb"
      },
      "source": [
        "## Clasificador bayesiano ingenuo para distribución de Bernoulli\n",
        "Definimos una función para obtener la probabilidad de 0 o 1 dada una distribución de Bernoulli con parámetro $q$."
      ]
    },
    {
      "cell_type": "code",
      "metadata": {
        "id": "hFjc0A4w4y8Z"
      },
      "source": [
        "def bernoulli(x, q):\n",
        "  \"\"\"\n",
        "  Distribución de bernoulli\n",
        "  \"\"\"\n",
        "  return q**x * (1.0 - q)**(1.0 - x)"
      ],
      "execution_count": 4,
      "outputs": []
    },
    {
      "cell_type": "markdown",
      "metadata": {
        "id": "-NjqbI7g40px"
      },
      "source": [
        "Definimos una clase con el clasificador bayesiano ingenuo para atributos binarios y estimación de parámetros por máxima verosimilitud."
      ]
    },
    {
      "cell_type": "code",
      "metadata": {
        "colab": {
          "base_uri": "https://localhost:8080/"
        },
        "id": "NhBWGadkeCFJ",
        "outputId": "4b5c1dc3-3c65-48ba-836d-c9b5793cd245"
      },
      "source": [
        "bernoulli(np.array([[0, 1, 1], [1,0,0]]), np.array([0.2, 0.3, 0.4]))"
      ],
      "execution_count": 5,
      "outputs": [
        {
          "output_type": "execute_result",
          "data": {
            "text/plain": [
              "array([[0.8, 0.3, 0.4],\n",
              "       [0.2, 0.7, 0.6]])"
            ]
          },
          "metadata": {},
          "execution_count": 5
        }
      ]
    },
    {
      "cell_type": "code",
      "metadata": {
        "colab": {
          "base_uri": "https://localhost:8080/"
        },
        "id": "l4GWsvvWzSwq",
        "outputId": "9cd32b3d-bb96-41f8-c4d6-e8ec46a499da"
      },
      "source": [
        "class BernoulliNB:\n",
        "  def fit(self, X, y):\n",
        "    \"\"\"\n",
        "    Estima parámetros por máxima verosimilitud\n",
        "    \"\"\"\n",
        "    self.clases = np.unique(y)\n",
        "    self.n_clases = self.clases.size\n",
        "    self.n_atr = X.shape[-1]\n",
        "    n = X.shape[0]\n",
        "\n",
        "    self.qa = np.zeros((self.n_clases, self.n_atr))\n",
        "    self.qc = np.zeros((self.n_clases))\n",
        "    for i,c in enumerate(self.clases):\n",
        "      Xc = X[y == c]\n",
        "      nc = Xc.shape[0]\n",
        "\n",
        "      cuentas = np.count_nonzero(Xc, axis = 0)\n",
        "      self.qa[i, :] =  cuentas / nc\n",
        "      self.qc[i] = nc / n\n",
        "\n",
        "  def predict_proba(self, X):\n",
        "    \"\"\"\n",
        "    Calcula a posteriori (proporcional) de un conjunto de datos\n",
        "    \"\"\"\n",
        "    prop = np.zeros((X.shape[0], self.n_clases))\n",
        "    for i in range(self.n_clases):\n",
        "      prop[:, i] = np.prod(bernoulli(X, self.qa[i, :]), axis=1) * self.qc[i]\n",
        "    return prop\n",
        "\n",
        "  def predict(self, X):\n",
        "    \"\"\"\n",
        "    Predice clases de conjunto de datos\n",
        "    \"\"\"\n",
        "    return np.argmax(self.predict_proba(X), axis=1)\n",
        "\n",
        "bnb = BernoulliNB()\n",
        "bnb.fit(X_ent, y_ent)\n",
        "\n",
        "y_bnb = bnb.predict(X_nuevos)\n",
        "p_bnb = bnb.predict_proba(X_nuevos)\n",
        "\n",
        "print(y_bnb)\n",
        "print(p_bnb)"
      ],
      "execution_count": 6,
      "outputs": [
        {
          "output_type": "stream",
          "name": "stdout",
          "text": [
            "[1 0 0]\n",
            "[[0.0015588  0.00279273]\n",
            " [0.00031176 0.        ]\n",
            " [0.0031176  0.        ]]\n"
          ]
        }
      ]
    },
    {
      "cell_type": "code",
      "source": [
        "X_nuevos.shape"
      ],
      "metadata": {
        "colab": {
          "base_uri": "https://localhost:8080/"
        },
        "id": "VKDTCnA_2vCi",
        "outputId": "1d1697c1-7f74-4cbb-d58b-7a4b5a931b8a"
      },
      "execution_count": 7,
      "outputs": [
        {
          "output_type": "execute_result",
          "data": {
            "text/plain": [
              "(3, 8)"
            ]
          },
          "metadata": {},
          "execution_count": 7
        }
      ]
    },
    {
      "cell_type": "code",
      "source": [
        "bnb.qa.shape"
      ],
      "metadata": {
        "colab": {
          "base_uri": "https://localhost:8080/"
        },
        "id": "JahwPYpZ0off",
        "outputId": "de29ccee-784e-4621-9f17-de67931d9220"
      },
      "execution_count": 8,
      "outputs": [
        {
          "output_type": "execute_result",
          "data": {
            "text/plain": [
              "(2, 8)"
            ]
          },
          "metadata": {},
          "execution_count": 8
        }
      ]
    },
    {
      "cell_type": "markdown",
      "metadata": {
        "id": "k8NffFZQZUeb"
      },
      "source": [
        "El método `predict_proba` calcula la proporcional de la probabilidad a posteriori\n",
        "\n",
        "$$\n",
        "P(\\mathbf{x} \\vert y)\\cdot P(y) \\propto P(y \\vert \\mathbf{x})\n",
        "$$\n",
        "\n",
        "Para obtener la probabilidad a posteriori es necesario dividir este valor entre\n",
        "$$\n",
        "P(\\mathbf{x}) = \\sum_c P(\\mathbf{x}, y = c) = \\sum_c P(\\mathbf{x} \\vert y = c) P(y = c)\n",
        "$$"
      ]
    },
    {
      "cell_type": "code",
      "metadata": {
        "colab": {
          "base_uri": "https://localhost:8080/"
        },
        "id": "TALAdkWrh4gf",
        "outputId": "f6af1448-a02a-4b9d-c808-99d690281e1b"
      },
      "source": [
        "proba_bnb = (p_bnb / p_bnb.sum(axis = 1)[:, np.newaxis])\n",
        "print(f'Probabilidad a posteriori = {proba_bnb}')"
      ],
      "execution_count": 9,
      "outputs": [
        {
          "output_type": "stream",
          "name": "stdout",
          "text": [
            "Probabilidad a posteriori = [[0.35821874 0.64178126]\n",
            " [1.         0.        ]\n",
            " [1.         0.        ]]\n"
          ]
        }
      ]
    },
    {
      "cell_type": "markdown",
      "metadata": {
        "id": "sviQpYB6UC-Y"
      },
      "source": [
        "Cuando el número de atributos es muy grande, es conveniente usar escala logarítmica para calcular la proporcional de la probabilidad de cada clase dado un nuevo dato (método `predict_proba`)."
      ]
    },
    {
      "cell_type": "code",
      "metadata": {
        "id": "ckBmdQlnPzIr",
        "colab": {
          "base_uri": "https://localhost:8080/"
        },
        "outputId": "37c03032-9670-41b0-aa2e-0e8529c96451"
      },
      "source": [
        "class BernoulliNBLog:\n",
        "  def fit(self, X, y):\n",
        "    \"\"\"\n",
        "    Estima parámetros por máxima verosimilitud\n",
        "    \"\"\"\n",
        "    self.clases = np.unique(y)\n",
        "    self.n_clases = self.clases.size\n",
        "    self.n_atr = X.shape[-1]\n",
        "    n = X.shape[0]\n",
        "\n",
        "    self.qa = np.zeros((self.n_clases, self.n_atr))\n",
        "    self.qc = np.zeros((self.n_clases))\n",
        "    for i,c in enumerate(self.clases):\n",
        "      Xc = X[y == c]\n",
        "      nc = Xc.shape[0]\n",
        "\n",
        "      cuentas = np.count_nonzero(Xc, axis = 0)\n",
        "      self.qa[i, :] = cuentas / nc\n",
        "      self.qc[i] = nc / n\n",
        "\n",
        "    # Para evitar logarítmos de zero en cálculo\n",
        "    # de a posteriori\n",
        "    self.qa[self.qa == 0] = np.nextafter(0, 1)\n",
        "    self.qa[self.qa == 1] = np.nextafter(1, 0)\n",
        "\n",
        "  def predict_proba(self, X):\n",
        "    \"\"\"\n",
        "    Calcula a posteriori (proporcional) de un conjunto de datos\n",
        "    \"\"\"\n",
        "    prop = np.zeros((X.shape[0], self.n_clases))\n",
        "    for i in range(self.n_clases):\n",
        "      a0log = (1 - X) @ np.log(1 - self.qa[i, :])\n",
        "      a1log = X @ np.log(self.qa[i, :])\n",
        "      prop[:, i] = a0log + a1log + np.log(self.qc[i])\n",
        "\n",
        "    return prop\n",
        "\n",
        "  def predict(self, X):\n",
        "    \"\"\"\n",
        "    Predice clase de conjunto de datos\n",
        "    \"\"\"\n",
        "    return np.argmax(self.predict_proba(X), axis=1)\n",
        "\n",
        "bnbl = BernoulliNBLog()\n",
        "bnbl.fit(X_ent, y_ent)\n",
        "\n",
        "y_bnbl = bnbl.predict(X_nuevos)\n",
        "p_bnbl = bnbl.predict_proba(X_nuevos)\n",
        "\n",
        "print(y_bnb)\n",
        "print(p_bnbl) # Proporcional de probabilidades logarítmicas\n",
        "print(np.exp(p_bnbl)) # Proporcional de probabilidades\n",
        "print((np.exp(p_bnbl) / np.exp(p_bnbl).sum(axis = 1)[:, np.newaxis])) # Probabilidades"
      ],
      "execution_count": 10,
      "outputs": [
        {
          "output_type": "stream",
          "name": "stdout",
          "text": [
            "[1 0 0]\n",
            "[[ -6.46384036  -5.88073664]\n",
            " [ -8.07327827 -40.82577774]\n",
            " [ -5.77069318 -80.33516704]]\n",
            "[[1.55879786e-03 2.79272727e-03]\n",
            " [3.11759571e-04 1.86033007e-18]\n",
            " [3.11759571e-03 1.29086330e-35]]\n",
            "[[3.58218742e-01 6.41781258e-01]\n",
            " [1.00000000e+00 5.96719474e-15]\n",
            " [1.00000000e+00 4.14057312e-33]]\n"
          ]
        }
      ]
    },
    {
      "cell_type": "markdown",
      "metadata": {
        "id": "hoeKbKknUTaZ"
      },
      "source": [
        "Nota que no es necesario modificar la estimación de parámetros (método `fit`).\n",
        "\n",
        "Para estimar parámetros por máximo a posteriori, solo se necesita cambiar el método `fit` de la siguiente manera."
      ]
    },
    {
      "cell_type": "code",
      "metadata": {
        "colab": {
          "base_uri": "https://localhost:8080/"
        },
        "id": "cYFprucnNf8o",
        "outputId": "630fd926-c87b-4642-e455-c32694657e11"
      },
      "source": [
        "class BernoulliNBLogMAP:\n",
        "  def fit(self, X, y, alfa=2):\n",
        "    \"\"\"\n",
        "    Estima parámetros por máximo a posteriori\n",
        "    \"\"\"\n",
        "    self.clases = np.unique(y)\n",
        "    self.n_clases = self.clases.size\n",
        "    self.n_atr = X.shape[-1]\n",
        "    n = X.shape[0]\n",
        "\n",
        "    self.qa = np.zeros((self.n_clases, self.n_atr))\n",
        "    self.qc = np.zeros((self.n_clases))\n",
        "    for i,c in enumerate(self.clases):\n",
        "      Xc = X[y == c]\n",
        "      nc = Xc.shape[0]\n",
        "\n",
        "      # Asignamos misma alfa para todas las categorías\n",
        "      self.qc[i] = (nc + alfa - 1) / (n + alfa * self.n_clases - self.n_clases)\n",
        "      cuentas = np.count_nonzero(Xc, axis = 0)\n",
        "      self.qa[i, :] = (cuentas + alfa - 1) / (nc + self.n_atr + alfa - 2)\n",
        "\n",
        "  def predict_proba(self, X):\n",
        "    \"\"\"\n",
        "    Calcula a posteriori (proporcional) de un conjunto de datos\n",
        "    \"\"\"\n",
        "    prop = np.zeros((X.shape[0], self.n_clases))\n",
        "    for i in range(self.n_clases):\n",
        "      a0log = (1 - X) @ np.log(1 - self.qa[i, :])\n",
        "      a1log = X @ np.log(self.qa[i, :])\n",
        "      prop[:, i] = a0log + a1log + np.log(self.qc[i])\n",
        "\n",
        "    return prop\n",
        "\n",
        "  def predict(self, x):\n",
        "    \"\"\"\n",
        "    Predice clases de un conjunto de datos\n",
        "    \"\"\"\n",
        "    return np.argmax(self.predict_proba(x), axis=1)\n",
        "\n",
        "bnblm = BernoulliNBLogMAP()\n",
        "bnblm.fit(X_ent, y_ent)\n",
        "\n",
        "y_bnblm = bnblm.predict(X_nuevos)\n",
        "p_bnblm = bnblm.predict_proba(X_nuevos)\n",
        "\n",
        "print(y_bnblm)\n",
        "print(p_bnblm) # Proporcional de probabilidades logarítmicas\n",
        "print(np.exp(p_bnblm)) # Proporcional de probabilidades\n",
        "print((np.exp(p_bnblm) / np.exp(p_bnblm).sum(axis=1)[:, np.newaxis])) # Probabilidades"
      ],
      "execution_count": 11,
      "outputs": [
        {
          "output_type": "stream",
          "name": "stdout",
          "text": [
            "[1 1 0]\n",
            "[[ -7.94438676  -7.94366196]\n",
            " [ -7.65670469  -6.89569341]\n",
            " [ -7.56139451 -10.15103891]]\n",
            "[[3.54647308e-04 3.54904448e-04]\n",
            " [4.72863077e-04 1.01213491e-03]\n",
            " [5.20149385e-04 3.90355061e-05]]\n",
            "[[0.4998188  0.5001812 ]\n",
            " [0.31842675 0.68157325]\n",
            " [0.93019213 0.06980787]]\n"
          ]
        }
      ]
    },
    {
      "cell_type": "markdown",
      "metadata": {
        "id": "OkxPZNUvF4K_"
      },
      "source": [
        "## Clasificación de documentos por tema\n",
        "Probaremos nuestro clasificador bayesiano ingenuo en la clasificación de documentos por tema usando el conjunto de datos _20 newsgroups_."
      ]
    },
    {
      "cell_type": "code",
      "metadata": {
        "id": "k_xhsQiEE3rq"
      },
      "source": [
        "ng_ent = fetch_20newsgroups(subset='train',\n",
        "                            shuffle=False,\n",
        "                            random_state=42)\n",
        "\n",
        "ng_prueba = fetch_20newsgroups(subset='test',\n",
        "                               shuffle=False,\n",
        "                               random_state=42)"
      ],
      "execution_count": 12,
      "outputs": []
    },
    {
      "cell_type": "markdown",
      "source": [
        "Dividimos el conjunto de entrenamiento en subconjuntos de entrenamiento y validación."
      ],
      "metadata": {
        "id": "xQRcXu-BUGeB"
      }
    },
    {
      "cell_type": "code",
      "source": [
        "docs_ent, docs_val, y_ent, y_val = train_test_split(ng_ent.data,\n",
        "                                                    ng_ent.target,\n",
        "                                                    shuffle=True,\n",
        "                                                    test_size = 0.2,\n",
        "                                                    stratify = ng_ent.target,\n",
        "                                                    random_state = 42)\n",
        "y_prueba = ng_prueba.target"
      ],
      "metadata": {
        "id": "U-76MEIdUMQV"
      },
      "execution_count": 13,
      "outputs": []
    },
    {
      "cell_type": "markdown",
      "metadata": {
        "id": "jnzAQB4wWbPg"
      },
      "source": [
        "Veamos cómo están distribuidas las clases en el conjunto de entrenamiento"
      ]
    },
    {
      "cell_type": "code",
      "metadata": {
        "colab": {
          "base_uri": "https://localhost:8080/",
          "height": 488
        },
        "id": "gyuWjJv6O894",
        "outputId": "3a1cd104-f18c-4889-a6eb-5e591575ef46"
      },
      "source": [
        "f,axs = plt.subplots(1,3, figsize=(15,5), sharey=True)\n",
        "\n",
        "axs[0].hist(y_ent, bins=[i for i in range(21)])\n",
        "axs[0].set_xticks(np.unique(y_ent))\n",
        "axs[0].set_xlabel(u'Categoría')\n",
        "axs[0].set_ylabel('Frecuencia')\n",
        "axs[0].set_title(u'Entrenamiento')\n",
        "\n",
        "axs[1].hist(y_val, bins=[i for i in range(21)])\n",
        "axs[1].set_xticks(np.unique(y_val))\n",
        "axs[1].set_xlabel(u'Categoría')\n",
        "axs[1].set_title(u'Validación')\n",
        "\n",
        "axs[2].hist(y_prueba, bins=[i for i in range(21)])\n",
        "axs[2].set_xticks(np.unique(y_prueba))\n",
        "axs[2].set_xlabel(u'Categoría')\n",
        "axs[2].set_title(u'Prueba')\n",
        "\n",
        "plt.subplots_adjust(wspace=0, hspace=0)\n",
        "plt.show()"
      ],
      "execution_count": 14,
      "outputs": [
        {
          "output_type": "display_data",
          "data": {
            "text/plain": [
              "<Figure size 1500x500 with 3 Axes>"
            ],
            "image/png": "[encoded data removed]"
          },
          "metadata": {}
        }
      ]
    },
    {
      "cell_type": "markdown",
      "source": [
        "Definimos una función para calcular la exactitud:\n",
        "$$\n",
        "\\text{Exactitud} = \\frac{\\text{Aciertos}}{\\text{Total}}\n",
        "$$"
      ],
      "metadata": {
        "id": "BzwXwJkAdO1m"
      }
    },
    {
      "cell_type": "code",
      "source": [
        "def exactitud(y, y_pred):\n",
        "  return (pred == y_val).mean()"
      ],
      "metadata": {
        "id": "UU086Z9Sk9dL"
      },
      "execution_count": 15,
      "outputs": []
    },
    {
      "cell_type": "markdown",
      "metadata": {
        "id": "-YWzry1PWCs4"
      },
      "source": [
        "En `scikit-learn` dentro del submódulo `naive_bayes` están definidos clasificadores bayesianos ingenuos con distintas distribuciones para los atributos. Compararemos nuestro clasificador con el `BernoulliNB` de `scikit-learn` para distintos tamaños de vocabulario."
      ]
    },
    {
      "cell_type": "code",
      "metadata": {
        "colab": {
          "base_uri": "https://localhost:8080/"
        },
        "id": "rgGhGHnoGmPf",
        "outputId": "46b86d7a-6eae-49ea-da4b-a4af9eb76767"
      },
      "source": [
        "tam = np.arange(2000, 22000, 2000)\n",
        "exact_tam = []\n",
        "for t in tam:\n",
        "  vec = CountVectorizer(max_features=t,\n",
        "                        stop_words='english',\n",
        "                        binary=True)\n",
        "\n",
        "  X_ent = vec.fit_transform(docs_ent)\n",
        "  X_val = vec.transform(docs_val)\n",
        "\n",
        "  cb = BernoulliNBLogMAP()\n",
        "  cb.fit(X_ent.toarray(), y_ent)\n",
        "  pred = cb.predict(X_val.toarray())\n",
        "  exact_tam.append(exactitud(y_val, pred))\n",
        "\n",
        "  print(f'Exactitud = {exact_tam[-1]:.4f}')"
      ],
      "execution_count": 16,
      "outputs": [
        {
          "output_type": "stream",
          "name": "stdout",
          "text": [
            "Exactitud = 0.7048\n",
            "Exactitud = 0.7552\n",
            "Exactitud = 0.7826\n",
            "Exactitud = 0.7981\n",
            "Exactitud = 0.8069\n",
            "Exactitud = 0.8140\n",
            "Exactitud = 0.8206\n",
            "Exactitud = 0.8237\n",
            "Exactitud = 0.8277\n",
            "Exactitud = 0.8312\n"
          ]
        }
      ]
    },
    {
      "cell_type": "markdown",
      "metadata": {
        "id": "rF55fjLLDoE9"
      },
      "source": [
        "Graficamos el rendimiento con respecto al tamaño del vocabulario."
      ]
    },
    {
      "cell_type": "code",
      "metadata": {
        "id": "nNQ4Drf-i0TY",
        "colab": {
          "base_uri": "https://localhost:8080/",
          "height": 449
        },
        "outputId": "217610f0-e37e-409b-cb80-f76b0af30b4c"
      },
      "source": [
        "plt.plot(tam, exact_tam)\n",
        "plt.xlabel(u'Tamaño de vocabulario')\n",
        "plt.ylabel(u'Exactitud')\n",
        "plt.show()"
      ],
      "execution_count": 17,
      "outputs": [
        {
          "output_type": "display_data",
          "data": {
            "text/plain": [
              "<Figure size 640x480 with 1 Axes>"
            ],
            "image/png": "[encoded data removed]"
          },
          "metadata": {}
        }
      ]
    }
  ]
}