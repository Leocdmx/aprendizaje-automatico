{
 "cells": [
  {
   "cell_type": "code",
   "execution_count": 63,
   "metadata": {},
   "outputs": [],
   "source": [
    "import pandas as pd\n",
    "from sklearn.model_selection import train_test_split\n",
    "\n",
    "from sklearn.naive_bayes import BernoulliNB, MultinomialNB\n",
    "\n",
    "from sklearn.metrics import accuracy_score, classification_report          \n",
    "\n"
   ]
  },
  {
   "cell_type": "code",
   "execution_count": 4,
   "metadata": {},
   "outputs": [],
   "source": [
    "\n",
    "# URL del archivo de datos\n",
    "url = \"http://turing.iimas.unam.mx/~gibranfp/cursos/aprendizaje_automatizado/data/spam.csv\"\n",
    "\n",
    "# Cargar los datos en un DataFrame\n",
    "df = pd.read_csv(url, header=None)  # No tiene encabezados, por eso usamos header=None\n"
   ]
  },
  {
   "cell_type": "code",
   "execution_count": 24,
   "metadata": {},
   "outputs": [],
   "source": [
    "\n",
    "# Separar cada número en una columna\n",
    "df_split = df[0].str.split(expand=True)\n",
    "\n",
    "# Renombrar la última columna como 'target'\n",
    "df_split.columns = [f'col_{i}' for i in range(df_split.shape[1]-1)] + ['target']\n",
    "\n",
    "# Convertir a tipo numérico\n",
    "df_split = df_split.apply(pd.to_numeric)\n"
   ]
  },
  {
   "cell_type": "markdown",
   "metadata": {},
   "source": [
    "Reporta el porcentaje de correos que están etiquetados como spam y como no spam en el\n",
    "conjunto de datos."
   ]
  },
  {
   "cell_type": "code",
   "execution_count": 51,
   "metadata": {},
   "outputs": [
    {
     "name": "stdout",
     "output_type": "stream",
     "text": [
      "Porcentaje de correos marcados como spam: 29.0\n",
      "Porcentaje de correos marcados como NO spam: 71.0\n"
     ]
    }
   ],
   "source": [
    "no_de_spam=df_split['target'].sum()\n",
    "no_de_ham=df_split['target'].count()-no_de_spam\n",
    "\n",
    "\n",
    "print('Porcentaje de correos marcados como spam:',round(no_de_spam/df_split['target'].count()*100,2))\n",
    "print('Porcentaje de correos marcados como NO spam:',round(no_de_ham/df_split['target'].count()*100,2))"
   ]
  },
  {
   "cell_type": "markdown",
   "metadata": {},
   "source": [
    "**Divide aleatoriamente el conjunto de datos en el 60 % para entrenamiento, el 20 % para validación y el 20 % restante para prueba usando 0 como semilla para tu generador de números aleatorios.**"
   ]
  },
  {
   "cell_type": "code",
   "execution_count": 44,
   "metadata": {},
   "outputs": [
    {
     "name": "stdout",
     "output_type": "stream",
     "text": [
      "Datos de entrenamiento: 60.0 %\n",
      "Datos de validación: 19.99 %\n",
      "Datos de prueba: 20.01 %\n"
     ]
    }
   ],
   "source": [
    "X=df_split.drop(['target'],axis=1)\n",
    "y=df_split['target']\n",
    "\n",
    "X_train, X_temp, y_train, y_temp = train_test_split(X, y, test_size=0.4, random_state=0)\n",
    "X_val, X_test, y_val, y_test = train_test_split(X_temp, y_temp, test_size=0.5, random_state=0)\n",
    "\n",
    "print('Datos de entrenamiento:',round(X_train.shape[0]/df_split.shape[0]*100,2),'%')\n",
    "print('Datos de validación:',round(X_val.shape[0]/df_split.shape[0]*100,2),'%')\n",
    "print('Datos de prueba:',round(X_test.shape[0]/df_split.shape[0]*100,2),'%')"
   ]
  },
  {
   "cell_type": "markdown",
   "metadata": {},
   "source": [
    "**Entrena 2 clasificadores bayesianos ingenuos con distintas distribuciones.**"
   ]
  },
  {
   "cell_type": "code",
   "execution_count": 65,
   "metadata": {},
   "outputs": [
    {
     "name": "stdout",
     "output_type": "stream",
     "text": [
      "\n",
      "BernoulliNB Accuracy: 0.9062801932367149\n",
      "BernoulliNB Report:\n",
      "               precision    recall  f1-score   support\n",
      "\n",
      "           0       0.93      0.94      0.94       751\n",
      "           1       0.85      0.81      0.83       284\n",
      "\n",
      "    accuracy                           0.91      1035\n",
      "   macro avg       0.89      0.88      0.88      1035\n",
      "weighted avg       0.91      0.91      0.91      1035\n",
      "\n"
     ]
    }
   ],
   "source": [
    "#BernoulliNB\n",
    "\n",
    "# Entrenamos el clasificador Bernoulli Naive Bayes\n",
    "clf = BernoulliNB()\n",
    "clf.fit(X_train, y_train)\n",
    "y_pred = clf.predict(X_test)\n",
    "\n",
    "# Evaluamos el rendimiento del BernoulliNB\n",
    "accuracy= accuracy_score(y_test, y_pred)\n",
    "report = classification_report(y_test, y_pred)\n",
    "print(\"\\nBernoulliNB Accuracy:\", accuracy)\n",
    "print(\"BernoulliNB Report:\\n\", report)\n"
   ]
  },
  {
   "cell_type": "code",
   "execution_count": 69,
   "metadata": {},
   "outputs": [
    {
     "name": "stdout",
     "output_type": "stream",
     "text": [
      "\n",
      "MultinomialNB Accuracy: 0.9458937198067633\n",
      "MultinomialNB Report:\n",
      "               precision    recall  f1-score   support\n",
      "\n",
      "           0       0.98      0.95      0.96       751\n",
      "           1       0.87      0.94      0.91       284\n",
      "\n",
      "    accuracy                           0.95      1035\n",
      "   macro avg       0.92      0.95      0.93      1035\n",
      "weighted avg       0.95      0.95      0.95      1035\n",
      "\n"
     ]
    }
   ],
   "source": [
    "#MultinomialNB\n",
    "\n",
    "# Entrenamos el clasificador Bernoulli Naive Bayes\n",
    "clf_m = MultinomialNB()\n",
    "clf_m.fit(X_train, y_train)\n",
    "y_pred = clf_m.predict(X_test)\n",
    "\n",
    "# Evaluamos el rendimiento del BernoulliNB\n",
    "accuracy= accuracy_score(y_test, y_pred)\n",
    "report = classification_report(y_test, y_pred)\n",
    "print(\"\\nMultinomialNB Accuracy:\", accuracy)\n",
    "print(\"MultinomialNB Report:\\n\", report)\n"
   ]
  },
  {
   "cell_type": "markdown",
   "metadata": {},
   "source": [
    "**Discute el desempeño de los diferentes clasificadores**"
   ]
  },
  {
   "cell_type": "markdown",
   "metadata": {},
   "source": [
    "Notamos un mejor desempeño en la exactitud del modelo multinomial con 94.59% vs el gasiano con  90.63% \n",
    "\n",
    "Algo interesante a notar es que en ambos modelos los falsos positvos, es decir, la presición fue muy parecida, lo cual nos dice que varios correos que no eran spam fueron marcados como tal, lo cual es lo más idoneo.\n",
    "\n",
    "Una solucion a esto podria ser cambiar el punto de corte, sin embargo esto afectaria el recall."
   ]
  },
  {
   "cell_type": "markdown",
   "metadata": {},
   "source": [
    "**Reporta el porcentaje de predicciones correctas en el subconjunto de prueba para el clasificador\n",
    "con mejor rendimiento en el subconjunto de validación.**"
   ]
  },
  {
   "cell_type": "code",
   "execution_count": 70,
   "metadata": {},
   "outputs": [
    {
     "name": "stdout",
     "output_type": "stream",
     "text": [
      "\n",
      "MultinomialNB Accuracy: 0.9497098646034816\n",
      "MultinomialNB Report:\n",
      "               precision    recall  f1-score   support\n",
      "\n",
      "           0       0.98      0.95      0.96       732\n",
      "           1       0.89      0.95      0.92       302\n",
      "\n",
      "    accuracy                           0.95      1034\n",
      "   macro avg       0.93      0.95      0.94      1034\n",
      "weighted avg       0.95      0.95      0.95      1034\n",
      "\n"
     ]
    }
   ],
   "source": [
    "y_pred = clf_m.predict(X_val)\n",
    "\n",
    "# Evaluamos el rendimiento del BernoulliNB\n",
    "accuracy= accuracy_score(y_val, y_pred)\n",
    "report = classification_report(y_val, y_pred)\n",
    "print(\"\\nMultinomialNB Accuracy:\", accuracy)\n",
    "print(\"MultinomialNB Report:\\n\", report)"
   ]
  },
  {
   "cell_type": "markdown",
   "metadata": {},
   "source": [
    "Al replicar sobre el conjunto de validación volvemos a tener un desempeño sobresaliente en exactitud 94.97% lo que sugiere que el clasificador es robusto para el problema que tenemos."
   ]
  }
 ],
 "metadata": {
  "kernelspec": {
   "display_name": "Python 3",
   "language": "python",
   "name": "python3"
  },
  "language_info": {
   "codemirror_mode": {
    "name": "ipython",
    "version": 3
   },
   "file_extension": ".py",
   "mimetype": "text/x-python",
   "name": "python",
   "nbconvert_exporter": "python",
   "pygments_lexer": "ipython3",
   "version": "3.9.6"
  }
 },
 "nbformat": 4,
 "nbformat_minor": 2
}
